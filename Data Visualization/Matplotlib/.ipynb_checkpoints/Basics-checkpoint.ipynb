{
 "cells": [
  {
   "cell_type": "code",
   "execution_count": null,
   "id": "f73ac3c8-3cab-48a4-8c77-22149523ea44",
   "metadata": {},
   "outputs": [],
   "source": [
    "#importing the library\n",
    "import matplotlib.pyplot\n",
    "#creating the figure\n",
    "plt.figure()\n",
    "#different types of plots\n",
    "plt.plot(x1, y1)\n",
    "plt.plot(x2, y2)\n",
    "plt.plot(x3, y3)\n",
    "#labels for the x-axis\n",
    "plt.xticks([2012, 2013, 2014, 2015])\n",
    "#labels for the y-axis\n",
    "plt.yticks([0, 1, 2, 3, 4, 5, 6])\n",
    "#setting axes limits\n",
    "plt.xlim(2012, 2015)\n",
    "plt.ylim(1, 5)\n",
    "#naming the axes labels\n",
    "plt.xlabel()\n",
    "plt.ylabel()\n",
    "plt.legend()\n",
    "#splitting the area into scaled squares\n",
    "plt.grid()\n",
    "#saving the figure\n",
    "plt.savefig(\"name.png\")\n",
    "#showing instead of saving\n",
    "plt.show()"
   ]
  }
 ],
 "metadata": {
  "kernelspec": {
   "display_name": "Python 3 (ipykernel)",
   "language": "python",
   "name": "python3"
  },
  "language_info": {
   "codemirror_mode": {
    "name": "ipython",
    "version": 3
   },
   "file_extension": ".py",
   "mimetype": "text/x-python",
   "name": "python",
   "nbconvert_exporter": "python",
   "pygments_lexer": "ipython3",
   "version": "3.11.7"
  }
 },
 "nbformat": 4,
 "nbformat_minor": 5
}
