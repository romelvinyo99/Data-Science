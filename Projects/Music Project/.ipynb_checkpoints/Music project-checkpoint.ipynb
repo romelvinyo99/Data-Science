{
 "cells": [
  {
   "cell_type": "code",
   "execution_count": null,
   "id": "b07bfaf1-3141-41cd-87e6-00939e748f80",
   "metadata": {},
   "outputs": [],
   "source": [
    "#importing libraries\n",
    "import pandas as pd\n",
    "#sklearn - package\n",
    "#tree - module\n",
    "#DecisionTreeClassifier - class\n",
    "\n",
    "#algorith package\n",
    "from sklearn.tree import DecisionTreeClassifier\n",
    "#test split package\n",
    "from sklearn.model_selection import train_test_split\n",
    "#evaluation package\n",
    "from sklearn.metrics import accuracy_score\n"
   ]
  },
  {
   "cell_type": "code",
   "execution_count": null,
   "id": "651533af-75b7-49af-be2b-48012560452e",
   "metadata": {},
   "outputs": [],
   "source": [
    "#importing data\n",
    "music_data = pd.read_csv(\"music.csv\")\n",
    "music_data"
   ]
  },
  {
   "cell_type": "code",
   "execution_count": null,
   "id": "3aea39e0-0d8b-4d0b-8e99-1ad3a04cf431",
   "metadata": {},
   "outputs": [],
   "source": [
    "#cleaning data\n",
    "\n",
    "#summary information on the data\n",
    "df.info()\n",
    "\n",
    "#checking duplicates\n",
    "df[df.duplicated()]\n"
   ]
  },
  {
   "cell_type": "code",
   "execution_count": null,
   "id": "8b1fda6c-c9c0-4a40-a9d4-de49338fdd2d",
   "metadata": {},
   "outputs": [],
   "source": [
    "#splitting the data into input and output setsv- dropping\n",
    "\n",
    "#X - input set\n",
    "X = music_data.drop(columns=[\"genre\"])\n",
    "#y - output set\n",
    "y = music_data[\"genre\"]\n",
    "\n",
    "X, y"
   ]
  },
  {
   "cell_type": "code",
   "execution_count": null,
   "id": "cabc3bc3-c7da-4d83-927a-78b6f25a39d1",
   "metadata": {},
   "outputs": [],
   "source": [
    "#learning and predicting\n",
    "\n",
    "#creating an instance of the algorithm\n",
    "model = DecisionTreeClassifier()\n",
    "\n",
    "#fitting the data into our model - takes to arguments input and output set\n",
    "model.fit(X, y)\n"
   ]
  },
  {
   "cell_type": "code",
   "execution_count": null,
   "id": "7b8df587-4b1e-494d-976e-9615553fc7eb",
   "metadata": {},
   "outputs": [],
   "source": [
    "#Predictions by the model - In our dataset we can see their some ages missing we can try and predict that\n",
    "\n",
    "#The prediction function takes a 2D - array\n",
    "prediction = model.predict([[21, 1], [22, 0]])\n"
   ]
  },
  {
   "cell_type": "code",
   "execution_count": null,
   "id": "5bc28b43-7abc-465d-a48a-45c7367342b5",
   "metadata": {},
   "outputs": [],
   "source": [
    "#Inspecting the predictions\n",
    "prediction"
   ]
  },
  {
   "cell_type": "code",
   "execution_count": null,
   "id": "f30c83b1-20ba-47db-9e93-40c6aba0e71f",
   "metadata": {},
   "outputs": [],
   "source": [
    "from sklearn.tree import DecisionTreeClassifier\n",
    "from sklearn.metrics import accuracy_score\n",
    "import pandas as pd\n",
    "# Calculating accuracy of a model - we are gonna redo everything\n",
    "music_data2 = pd.read_csv(\"music.csv\")\n",
    "\n",
    "\n",
    "X1 = music_data2.drop(columns=[\"genre\"])\n",
    "y1 = music_data2[\"genre\"]\n",
    "\n",
    "#This function is for splitting into training and testing sets and it returns a tuple\n",
    "#The first two variables are the input sets for training and testing and the next two are the outplut sets for training and testing \n",
    "#We will use 80 percent for training and the rest for testing - test_size parameter\n",
    "X1_train, X1_test, y1_train, y1_test = train_test_split(X1, y1, test_size = 0.2)\n",
    "\n",
    "\n",
    "model1 = DecisionTreeClassifier()\n",
    "#Instead of the entire dataset we pass the training sets for input and output\n",
    "model1.fit(X1_train, y1_train)\n",
    "\n",
    "#When making predictions we pass the testing set instead of samples \n",
    "#This will return predictions by the computer about what y is which we already know so we will compare with what we know\n",
    "prediction1 = model1.predict(X1_test)\n",
    "\n",
    "#To measure the accuracy we compare the predictions with the actual values we have for testing\n",
    "#To get the score we compare the values we have with the predictions of the computer\n",
    "\n",
    "score = accuracy_score(y1_test, prediction1)\n",
    "score\n",
    "\n",
    "#The accuracy score is from 0 - 1\n",
    "#The higher the accuracy score the better\n",
    "#The accuracy score changes with each run this is because the function train_test_split randomly picks data\n",
    "\n",
    "\n",
    "#A shortcut to prevent creating new cells is selecting the cell and pressing - control + enter\n",
    "\n",
    "#When we reduce the training set size the accuracy drops - the more data and cleaner the data the higher the score"
   ]
  },
  {
   "cell_type": "code",
   "execution_count": null,
   "id": "ee754736-709f-4f93-a6f2-3d982989c4f1",
   "metadata": {},
   "outputs": [],
   "source": [
    "#Model persistency \n",
    "#package for model persistency\n",
    "#the joblib class has methods for loading and saving models\n",
    "import joblib\n",
    "\n",
    "music_data2 = pd.read_csv(\"music.csv\")\n",
    "X = music_data2.drop(columns = [\"genre\"])\n",
    "y = music_data2[\"genre\"]\n",
    "model = DecisionTreeClassifier()\n",
    "model.fit(X,y)\n",
    "saving our model - returns an array containing the name of our model file\n",
    "joblib.dump(model, \"music-recommender.joblib\")"
   ]
  },
  {
   "cell_type": "code",
   "execution_count": null,
   "id": "2a0bcef7-cc77-4c0f-9d4b-238cf7b6f774",
   "metadata": {},
   "outputs": [],
   "source": [
    "#Loading our model from joblib\n",
    "model = joblib.load(\"music-recommender.joblib\")\n",
    "predictions2 = model.predict([[21, 1]])\n",
    "predictions2"
   ]
  },
  {
   "cell_type": "code",
   "execution_count": 88,
   "id": "c73ce1ac-ca90-462d-a49e-4c23a6a6fb54",
   "metadata": {},
   "outputs": [],
   "source": [
    "#Visualizing a decision Tree\n",
    "import pandas as pd\n",
    "from sklearn.tree import DecisionTreeClassifier\n",
    "from sklearn import tree\n",
    "music_data3 = pd.read_csv(\"music.csv\")\n",
    "X = music_data3.drop(columns = [\"genre\"])\n",
    "y = music_data3[\"genre\"]\n",
    "model = DecisionTreeClassifier()\n",
    "model.fit(X,y)\n",
    "\n",
    "tree.export_graphviz(model, out_file=\"music-recommender.dot\", feature_names=[\"age\", \"gender\"],\n",
    "                     class_names=sorted(y.unique()), label=\"all\", rounded=True, filled=True)\n"
   ]
  }
 ],
 "metadata": {
  "kernelspec": {
   "display_name": "Python 3 (ipykernel)",
   "language": "python",
   "name": "python3"
  },
  "language_info": {
   "codemirror_mode": {
    "name": "ipython",
    "version": 3
   },
   "file_extension": ".py",
   "mimetype": "text/x-python",
   "name": "python",
   "nbconvert_exporter": "python",
   "pygments_lexer": "ipython3",
   "version": "3.11.7"
  }
 },
 "nbformat": 4,
 "nbformat_minor": 5
}
