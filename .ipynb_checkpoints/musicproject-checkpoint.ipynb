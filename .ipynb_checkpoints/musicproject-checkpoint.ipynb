{
 "cells": [
  {
   "cell_type": "code",
   "execution_count": 10,
   "id": "f4a2815a-b1a3-426c-8088-6d4acc48d244",
   "metadata": {},
   "outputs": [],
   "source": [
    "#importing the libraries\n",
    "import pandas as pd\n",
    "from sklearn.tree import DecisionTreeClassifier\n",
    "import sklearn.tree\n",
    "import joblib\n",
    "from sklearn.metrics import accuracy_score\n",
    "from sklearn.model_selection import train_test_split"
   ]
  },
  {
   "cell_type": "code",
   "execution_count": 120,
   "id": "750b5df6-5f33-4327-881d-7e8798d2b23e",
   "metadata": {},
   "outputs": [],
   "source": [
    "#splitting the data\n",
    "X = music.drop(columns = [\"genre\"])\n",
    "y = music[\"genre\"]\n",
    "#testing and training sets\n",
    "X_train, X_test, y_train, y_test = train_test_split(X, y, test_size = 0.4)"
   ]
  },
  {
   "cell_type": "code",
   "execution_count": 148,
   "id": "1bec6ab7-bb63-4442-a9fb-b28f2a5c9bd2",
   "metadata": {},
   "outputs": [
    {
     "name": "stdout",
     "output_type": "stream",
     "text": [
      "model accuracy == 1.0\n"
     ]
    }
   ],
   "source": [
    "#creating a model\n",
    "model = DecisionTreeClassifier()\n",
    "model.fit(X_train, y_train)\n",
    "predictions = model.predict(X_test)\n",
    "score = accuracy_score(y_test, predictions)\n",
    "score\n",
    "if score >= 0.9:\n",
    "    print(f\"model accuracy == {score}\")\n",
    "    joblib.dump(model, \"music.pro\")\n",
    "else:\n",
    "    print(f\"model accuracy = {score}. model is not accurate\")"
   ]
  },
  {
   "cell_type": "code",
   "execution_count": null,
   "id": "cca8f08b-91a0-49d3-9683-71a3e393ccad",
   "metadata": {},
   "outputs": [],
   "source": []
  }
 ],
 "metadata": {
  "kernelspec": {
   "display_name": "Python 3 (ipykernel)",
   "language": "python",
   "name": "python3"
  },
  "language_info": {
   "codemirror_mode": {
    "name": "ipython",
    "version": 3
   },
   "file_extension": ".py",
   "mimetype": "text/x-python",
   "name": "python",
   "nbconvert_exporter": "python",
   "pygments_lexer": "ipython3",
   "version": "3.11.7"
  }
 },
 "nbformat": 4,
 "nbformat_minor": 5
}
