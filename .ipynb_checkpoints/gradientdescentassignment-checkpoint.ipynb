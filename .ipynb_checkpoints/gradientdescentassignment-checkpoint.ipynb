{
 "cells": [
  {
   "cell_type": "code",
   "execution_count": null,
   "id": "169d56ef-4f4f-405f-8bc5-ba395d55769b",
   "metadata": {},
   "outputs": [],
   "source": [
    "import numpy as np\n",
    "import pandas as pd\n",
    "import joblib\n",
    "import matplotlib.pyplot as plt\n",
    "from sklearn.linear_model import LinearRegression"
   ]
  },
  {
   "cell_type": "code",
   "execution_count": null,
   "id": "e6e09a99-04b2-4709-9da7-e24114d1bc72",
   "metadata": {},
   "outputs": [],
   "source": [
    "test = pd.read_csv(\"test_scores.csv\")\n",
    "test"
   ]
  },
  {
   "cell_type": "code",
   "execution_count": null,
   "id": "c8773ade-963b-4d30-9ad6-0523b188fb1f",
   "metadata": {},
   "outputs": [],
   "source": [
    "test.info()\n",
    "\n",
    "test.duplicated()"
   ]
  },
  {
   "cell_type": "code",
   "execution_count": null,
   "id": "7e1cb734-ce3b-447a-b982-652ee54be7d2",
   "metadata": {
    "scrolled": true
   },
   "outputs": [],
   "source": [
    "X = test[\"math\"].values\n",
    "y = test[\"cs\"].values\n",
    "\n",
    "plt.scatter(X, y, label = \"data-points\", color = \"blue\")\n",
    "m, b = np.polyfit(X, y, 1)\n",
    "plt.plot(X, m*X + b, color = \"red\", label = \"red\")\n",
    "plt.xlabel(\"math\")\n",
    "plt.ylabel(\"cs\")\n",
    "\n",
    "model = LinearRegression()\n",
    "model.fit(X.reshape(-1,1), y)\n",
    "\n",
    "values = pd.DataFrame({\n",
    "    \"name\" : test[\"name\"],\n",
    "    \"math\" : [70, 80, 90, 45, 54, 78, 66, 31, 85, 67]\n",
    "})\n",
    "X1 = values[\"math\"].values.reshape(-1, 1)\n",
    "predictions = model.predict(X1)\n",
    "values[\"cs\"] = predictions\n",
    "values\n"
   ]
  },
  {
   "cell_type": "code",
   "execution_count": null,
   "id": "c957d208-a83b-4852-a0df-300b7aa9dc09",
   "metadata": {},
   "outputs": [],
   "source": [
    "def gradient_descent(X, y):\n",
    "    m_current = b_current = 0\n",
    "    n = len(X)\n",
    "    iterations = 1000\n",
    "    learning_rate = 0.0009\n",
    "    for i in range(iterations):\n",
    "        y_predicted = m_current * X + b_current\n",
    "        cost = (1/n) * sum(values**2 for values in (y - y_predicted))\n",
    "        md = -(2/n) * sum(X - (y - y_predicted))\n",
    "        bd = -(2/n) * sum(y - y_predicted)\n",
    "        m_current = m_current - learning_rate * md\n",
    "        b_current = b_current - learning_rate * bd\n",
    "        print(\"m{}, b{}, cost{}, iteration{}\".format(m_current, b_current, cost, i))\n",
    "\n",
    "\n",
    "gradient_descent(X, y)"
   ]
  },
  {
   "cell_type": "code",
   "execution_count": 32,
   "id": "d5be10e4-72aa-43aa-9da2-14f9779943ad",
   "metadata": {},
   "outputs": [
    {
     "data": {
      "text/plain": [
       "array([6.01743863e-01, 8.26563063e+00, 1.09746749e+01, 4.68299890e+00,\n",
       "       1.11635065e-02, 4.65286616e-03, 4.27693326e-01, 5.67911097e+00,\n",
       "       1.17898555e-01, 8.38943855e-01])"
      ]
     },
     "execution_count": 32,
     "metadata": {},
     "output_type": "execute_result"
    }
   ],
   "source": [
    "def calculate_cost(X, y, m, b):\n",
    "    n = len(X)\n",
    "    y_predicted = m * X + b\n",
    "    cost = (1/n) * ((y - y_predicted)**2)\n",
    "    return cost\n",
    "\n",
    "calculate_cost(X, y , m, b)"
   ]
  }
 ],
 "metadata": {
  "kernelspec": {
   "display_name": "Python 3 (ipykernel)",
   "language": "python",
   "name": "python3"
  },
  "language_info": {
   "codemirror_mode": {
    "name": "ipython",
    "version": 3
   },
   "file_extension": ".py",
   "mimetype": "text/x-python",
   "name": "python",
   "nbconvert_exporter": "python",
   "pygments_lexer": "ipython3",
   "version": "3.11.7"
  }
 },
 "nbformat": 4,
 "nbformat_minor": 5
}
