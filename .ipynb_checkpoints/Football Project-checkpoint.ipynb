{
 "cells": [
  {
   "cell_type": "markdown",
   "id": "a9eca0a6-9314-4d17-82ba-65ada1a695b6",
   "metadata": {},
   "source": [
    "                                                         Sport DATASET            "
   ]
  },
  {
   "cell_type": "markdown",
   "id": "c8d54b63-78d4-471e-92d0-d96058092b89",
   "metadata": {},
   "source": [
    "This is a football dataset with \n",
    "The process was: 1. Importing te data and neccessary tools \n",
    "                 2. Cleaning the data an data normalization(preprocessing)\n",
    "                 3. Getting some summary stats\n",
    "After this we realized that using the other columns we will predict the position of a player \n",
    "Dropping of the name , nationality,  first position and second position\n",
    "Separating the dataset into input X and output y and then training the modell\n",
    "Creating of a machine learning model - This is a classification problem since the target variable postion is not - continous\n",
    "The model accuracy === 0.99\n",
    "Creating of a Deep learning model with an accuravy of 0.88 \n",
    "The deep learning accuracy"
   ]
  },
  {
   "cell_type": "code",
   "execution_count": 179,
   "id": "1ebb71d7-94c6-45c6-be37-fb23ec6f2030",
   "metadata": {},
   "outputs": [],
   "source": [
    "#importation of the necessary libraries\n",
    "import pandas as pd\n",
    "import matplotlib.pyplot as plt"
   ]
  },
  {
   "cell_type": "code",
   "execution_count": 180,
   "id": "4ea767cd-3b6c-4d38-978b-df9268356707",
   "metadata": {},
   "outputs": [
    {
     "name": "stdout",
     "output_type": "stream",
     "text": [
      "The duplicates are dropped\n",
      "               Name  Age          Nationality  Overall  Acceleration  \\\n",
      "638         Marcelo   30               Brazil     79.0          61.0   \n",
      "786          Danilo   25               Brazil     78.0          75.0   \n",
      "802        L. López   34            Argentina     78.0          77.0   \n",
      "804       D. Heintz   23              Germany     78.0          55.0   \n",
      "805         Pozuelo   25                Spain     78.0          62.0   \n",
      "...             ...  ...                  ...      ...           ...   \n",
      "17954   T. Robinson   19              England     48.0          69.0   \n",
      "17962      J. Payne   18              England     47.0          65.0   \n",
      "17965      A. Byrne   18  Republic of Ireland     47.0          58.0   \n",
      "17978      J. Young   17             Scotland     46.0          66.0   \n",
      "17979  J. Lundstram   18              England     46.0          57.0   \n",
      "\n",
      "       Aggression  Agility  Balance  Ball control  Composure  ...  Shot power  \\\n",
      "638          73.0     49.0     47.0          65.0       76.0  ...        76.0   \n",
      "786          74.0     73.0     65.0          77.0       69.0  ...        85.0   \n",
      "802          57.0     82.0     79.0          80.0       79.0  ...        77.0   \n",
      "804          70.0     53.0     49.0          59.0       69.0  ...        49.0   \n",
      "805          52.0     76.0     82.0          82.0       82.0  ...        64.0   \n",
      "...           ...      ...      ...           ...        ...  ...         ...   \n",
      "17954        26.0     65.0     74.0          48.0       38.0  ...        46.0   \n",
      "17962        43.0     64.0     58.0          33.0       45.0  ...        22.0   \n",
      "17965        54.0     59.0     77.0          43.0       38.0  ...        54.0   \n",
      "17978        26.0     60.0     77.0          41.0       50.0  ...        42.0   \n",
      "17979        46.0     58.0     74.0          43.0       45.0  ...        43.0   \n",
      "\n",
      "       Sliding tackle  Sprint speed  Stamina  Standing tackle  Strength  \\\n",
      "638              75.0          70.0     74.0             80.0      90.0   \n",
      "786              78.0          80.0     83.0             77.0      79.0   \n",
      "802              24.0          83.0     76.0             55.0      73.0   \n",
      "804              77.0          68.0     69.0             83.0      84.0   \n",
      "805              40.0          57.0     75.0             52.0      50.0   \n",
      "...               ...           ...      ...              ...       ...   \n",
      "17954            25.0          57.0     48.0             25.0      51.0   \n",
      "17962            48.0          63.0     62.0             46.0      60.0   \n",
      "17965            48.0          64.0     59.0             44.0      31.0   \n",
      "17978            14.0          51.0     33.0             17.0      32.0   \n",
      "17979            47.0          58.0     49.0             48.0      46.0   \n",
      "\n",
      "       Vision  Volleys  Preferred Positions  Preferred Positions Type  \n",
      "638      43.0     42.0                  CB                       Back  \n",
      "786      63.0     72.0            CB LB RB                       Back  \n",
      "802      71.0     74.0                  ST                    Forward  \n",
      "804      65.0     26.0                  CB                       Back  \n",
      "805      83.0     62.0          CDM CM CAM                 Midfielder  \n",
      "...       ...      ...                  ...                       ...  \n",
      "17954    42.0     37.0                  LM                 Midfielder  \n",
      "17962    32.0     26.0               CB LB                       Back  \n",
      "17965    40.0     37.0                  CM                 Midfielder  \n",
      "17978    37.0     33.0                  ST                    Forward  \n",
      "17979    51.0     25.0                  CM                 Midfielder  \n",
      "\n",
      "[1006 rows x 40 columns]\n",
      "There are no null values\n"
     ]
    }
   ],
   "source": [
    "#cleaning of the dataset\n",
    "\n",
    "class Cleaning:\n",
    "    def __init__(self, file_path):\n",
    "        self.data = pd.read_csv(file_path, encoding='ISO-8859-1')\n",
    "    def full_clean_set(self):\n",
    "        self.data = self.duplicated()\n",
    "        self.data = self.nullNoneValues()\n",
    "        return self.data\n",
    "    def head(self, type = \"head\"):\n",
    "        if type == \"head\":\n",
    "            return self.data.head(5)\n",
    "        else:\n",
    "            return self.data.tail(5)\n",
    "            \n",
    "    def dataTypes(self):\n",
    "        return self.data.dtypes\n",
    "\n",
    "    def shape(self):\n",
    "        return self.data.shape\n",
    "        \n",
    "    def summaryInfo(self):\n",
    "        return self.data.info\n",
    "        \n",
    "        \n",
    "    def dataFrameColumns(self):\n",
    "        return self.data.columns\n",
    "        \n",
    "    def duplicated(self):\n",
    "        num = self.data.duplicated().sum()\n",
    "        if num>0:\n",
    "            duplicated = self.data[self.data[\"Name\"].duplicated()]\n",
    "            self.data.drop_duplicates()\n",
    "            print(\"The duplicates are dropped\")\n",
    "            print(duplicated)\n",
    "            return self.data\n",
    "        else:\n",
    "            print(\"There are no duplicate values \")\n",
    "            return self.data\n",
    "            \n",
    "            \n",
    "    def nullNoneValues(self, method = \"drop\"):\n",
    "        if not self.data.isnull().values.any() or not self.data.isna().values.any():\n",
    "            print(\"There are no null values\")\n",
    "            return self.data     \n",
    "        else:\n",
    "            null = self.data[self.data[\"Name\"].isnull()]\n",
    "            none = self.data[self.data[\"Name\"].isna()]\n",
    "            if method == \"drop\":\n",
    "                self.data.dropna()\n",
    "            else:\n",
    "                self.data.fillna(0)\n",
    "            return self.data    \n",
    "\n",
    "\n",
    "dataframe = Cleaning(\"football_players.csv\")\n",
    "df = dataframe.full_clean_set()\n",
    "#splitting the string in the position column\n",
    "df[[\"first Position\", \"second Position\"]] = df[\"Preferred Positions\"].str.split(expand = True, n=1)\n",
    "df = df.drop(columns = [\"Preferred Positions\"])\n",
    "#filling none and null values\n",
    "df[\"first Position\"].fillna(\"absent\", inplace = True)\n",
    "df[\"second Position\"].fillna(\"absent\", inplace = True)\n",
    "dataframe = df.copy()"
   ]
  },
  {
   "cell_type": "code",
   "execution_count": 181,
   "id": "0995ace8-6185-4fe9-b290-7a4acde82cf2",
   "metadata": {},
   "outputs": [
    {
     "data": {
      "text/html": [
       "<div>\n",
       "<style scoped>\n",
       "    .dataframe tbody tr th:only-of-type {\n",
       "        vertical-align: middle;\n",
       "    }\n",
       "\n",
       "    .dataframe tbody tr th {\n",
       "        vertical-align: top;\n",
       "    }\n",
       "\n",
       "    .dataframe thead th {\n",
       "        text-align: right;\n",
       "    }\n",
       "</style>\n",
       "<table border=\"1\" class=\"dataframe\">\n",
       "  <thead>\n",
       "    <tr style=\"text-align: right;\">\n",
       "      <th></th>\n",
       "      <th>Name</th>\n",
       "      <th>Age</th>\n",
       "      <th>Nationality</th>\n",
       "      <th>Overall</th>\n",
       "      <th>Acceleration</th>\n",
       "      <th>Aggression</th>\n",
       "      <th>Agility</th>\n",
       "      <th>Balance</th>\n",
       "      <th>Ball control</th>\n",
       "      <th>Composure</th>\n",
       "      <th>...</th>\n",
       "      <th>Sliding tackle</th>\n",
       "      <th>Sprint speed</th>\n",
       "      <th>Stamina</th>\n",
       "      <th>Standing tackle</th>\n",
       "      <th>Strength</th>\n",
       "      <th>Vision</th>\n",
       "      <th>Volleys</th>\n",
       "      <th>Preferred Positions Type</th>\n",
       "      <th>first Position</th>\n",
       "      <th>second Position</th>\n",
       "    </tr>\n",
       "  </thead>\n",
       "  <tbody>\n",
       "    <tr>\n",
       "      <th>0</th>\n",
       "      <td>Cristiano Ronaldo</td>\n",
       "      <td>32</td>\n",
       "      <td>Portugal</td>\n",
       "      <td>94.0</td>\n",
       "      <td>89.0</td>\n",
       "      <td>63.0</td>\n",
       "      <td>89.0</td>\n",
       "      <td>63.0</td>\n",
       "      <td>93.0</td>\n",
       "      <td>95.0</td>\n",
       "      <td>...</td>\n",
       "      <td>23.0</td>\n",
       "      <td>91.0</td>\n",
       "      <td>92.0</td>\n",
       "      <td>31.0</td>\n",
       "      <td>80.0</td>\n",
       "      <td>85.0</td>\n",
       "      <td>88.0</td>\n",
       "      <td>Forward</td>\n",
       "      <td>ST</td>\n",
       "      <td>LW</td>\n",
       "    </tr>\n",
       "    <tr>\n",
       "      <th>1</th>\n",
       "      <td>L. Messi</td>\n",
       "      <td>30</td>\n",
       "      <td>Argentina</td>\n",
       "      <td>93.0</td>\n",
       "      <td>92.0</td>\n",
       "      <td>48.0</td>\n",
       "      <td>90.0</td>\n",
       "      <td>95.0</td>\n",
       "      <td>95.0</td>\n",
       "      <td>96.0</td>\n",
       "      <td>...</td>\n",
       "      <td>26.0</td>\n",
       "      <td>87.0</td>\n",
       "      <td>73.0</td>\n",
       "      <td>28.0</td>\n",
       "      <td>59.0</td>\n",
       "      <td>90.0</td>\n",
       "      <td>85.0</td>\n",
       "      <td>Forward</td>\n",
       "      <td>RW</td>\n",
       "      <td>absent</td>\n",
       "    </tr>\n",
       "    <tr>\n",
       "      <th>2</th>\n",
       "      <td>Neymar</td>\n",
       "      <td>25</td>\n",
       "      <td>Brazil</td>\n",
       "      <td>92.0</td>\n",
       "      <td>94.0</td>\n",
       "      <td>56.0</td>\n",
       "      <td>96.0</td>\n",
       "      <td>82.0</td>\n",
       "      <td>95.0</td>\n",
       "      <td>92.0</td>\n",
       "      <td>...</td>\n",
       "      <td>33.0</td>\n",
       "      <td>90.0</td>\n",
       "      <td>78.0</td>\n",
       "      <td>24.0</td>\n",
       "      <td>53.0</td>\n",
       "      <td>80.0</td>\n",
       "      <td>83.0</td>\n",
       "      <td>Forward</td>\n",
       "      <td>LW</td>\n",
       "      <td>absent</td>\n",
       "    </tr>\n",
       "  </tbody>\n",
       "</table>\n",
       "<p>3 rows × 41 columns</p>\n",
       "</div>"
      ],
      "text/plain": [
       "                Name  Age Nationality  Overall  Acceleration  Aggression  \\\n",
       "0  Cristiano Ronaldo   32    Portugal     94.0          89.0        63.0   \n",
       "1           L. Messi   30   Argentina     93.0          92.0        48.0   \n",
       "2             Neymar   25      Brazil     92.0          94.0        56.0   \n",
       "\n",
       "   Agility  Balance  Ball control  Composure  ...  Sliding tackle  \\\n",
       "0     89.0     63.0          93.0       95.0  ...            23.0   \n",
       "1     90.0     95.0          95.0       96.0  ...            26.0   \n",
       "2     96.0     82.0          95.0       92.0  ...            33.0   \n",
       "\n",
       "   Sprint speed  Stamina  Standing tackle  Strength  Vision  Volleys  \\\n",
       "0          91.0     92.0             31.0      80.0    85.0     88.0   \n",
       "1          87.0     73.0             28.0      59.0    90.0     85.0   \n",
       "2          90.0     78.0             24.0      53.0    80.0     83.0   \n",
       "\n",
       "   Preferred Positions Type  first Position  second Position  \n",
       "0                   Forward              ST              LW   \n",
       "1                   Forward              RW           absent  \n",
       "2                   Forward              LW           absent  \n",
       "\n",
       "[3 rows x 41 columns]"
      ]
     },
     "execution_count": 181,
     "metadata": {},
     "output_type": "execute_result"
    }
   ],
   "source": [
    "df.head(3)"
   ]
  },
  {
   "cell_type": "code",
   "execution_count": 182,
   "id": "5c6496c9-b812-492d-801f-6aff66fe2872",
   "metadata": {},
   "outputs": [
    {
     "data": {
      "text/plain": [
       "<bound method NDFrame.describe of                     Name  Age Nationality  Overall  Acceleration  Aggression  \\\n",
       "0      Cristiano Ronaldo   32    Portugal     94.0          89.0        63.0   \n",
       "1               L. Messi   30   Argentina     93.0          92.0        48.0   \n",
       "2                 Neymar   25      Brazil     92.0          94.0        56.0   \n",
       "3              L. Suárez   30     Uruguay     92.0          88.0        78.0   \n",
       "4               M. Neuer   31     Germany     92.0          58.0        29.0   \n",
       "...                  ...  ...         ...      ...           ...         ...   \n",
       "17976          A. Kelsey   17     England     46.0          24.0        16.0   \n",
       "17977      B. Richardson   47     England     46.0          25.0        44.0   \n",
       "17978           J. Young   17    Scotland     46.0          66.0        26.0   \n",
       "17979       J. Lundstram   18     England     46.0          57.0        46.0   \n",
       "17980          L. Sackey   18       Ghana     46.0          48.0        52.0   \n",
       "\n",
       "       Agility  Balance  Ball control  Composure  ...  Sliding tackle  \\\n",
       "0         89.0     63.0          93.0       95.0  ...            23.0   \n",
       "1         90.0     95.0          95.0       96.0  ...            26.0   \n",
       "2         96.0     82.0          95.0       92.0  ...            33.0   \n",
       "3         86.0     60.0          91.0       83.0  ...            38.0   \n",
       "4         52.0     35.0          48.0       70.0  ...            11.0   \n",
       "...        ...      ...           ...        ...  ...             ...   \n",
       "17976     38.0     26.0          12.0       23.0  ...            10.0   \n",
       "17977     35.0     44.0          22.0       44.0  ...            13.0   \n",
       "17978     60.0     77.0          41.0       50.0  ...            14.0   \n",
       "17979     58.0     74.0          43.0       45.0  ...            47.0   \n",
       "17980     49.0     47.0          32.0       33.0  ...            43.0   \n",
       "\n",
       "       Sprint speed  Stamina  Standing tackle  Strength  Vision  Volleys  \\\n",
       "0              91.0     92.0             31.0      80.0    85.0     88.0   \n",
       "1              87.0     73.0             28.0      59.0    90.0     85.0   \n",
       "2              90.0     78.0             24.0      53.0    80.0     83.0   \n",
       "3              77.0     89.0             45.0      80.0    84.0     88.0   \n",
       "4              61.0     44.0             10.0      83.0    70.0     11.0   \n",
       "...             ...      ...              ...       ...     ...      ...   \n",
       "17976          32.0     28.0             11.0      50.0    26.0      6.0   \n",
       "17977          25.0     32.0             12.0      47.0    17.0     12.0   \n",
       "17978          51.0     33.0             17.0      32.0    37.0     33.0   \n",
       "17979          58.0     49.0             48.0      46.0    51.0     25.0   \n",
       "17980          49.0     55.0             44.0      67.0    22.0     19.0   \n",
       "\n",
       "       Preferred Positions Type  first Position  second Position  \n",
       "0                       Forward              ST              LW   \n",
       "1                       Forward              RW           absent  \n",
       "2                       Forward              LW           absent  \n",
       "3                       Forward              ST           absent  \n",
       "4                    GoalKeeper              GK           absent  \n",
       "...                         ...             ...              ...  \n",
       "17976                GoalKeeper              GK           absent  \n",
       "17977                GoalKeeper              GK           absent  \n",
       "17978                   Forward              ST           absent  \n",
       "17979                Midfielder              CM           absent  \n",
       "17980                      Back              ST              CB   \n",
       "\n",
       "[17981 rows x 41 columns]>"
      ]
     },
     "execution_count": 182,
     "metadata": {},
     "output_type": "execute_result"
    }
   ],
   "source": [
    "#summary statistics\n",
    "df.describe"
   ]
  },
  {
   "cell_type": "code",
   "execution_count": 183,
   "id": "72cc5085-46d8-4da2-be95-b7820e2bffec",
   "metadata": {},
   "outputs": [],
   "source": [
    "#summary statistics\n",
    "nationaliytByraitings = df.groupby([\"Nationality\"])[\"Overall\"].agg([\"count\", \"mean\", \"median\", \"skew\"])\n",
    "nationaliytByage = df.groupby([\"Nationality\"])[\"Age\"].agg([\"count\", \"mean\", \"median\", \"skew\"])"
   ]
  },
  {
   "cell_type": "code",
   "execution_count": 184,
   "id": "00bfe64a-f7ce-4afd-a0fd-9808ed5db4fd",
   "metadata": {},
   "outputs": [
    {
     "data": {
      "text/html": [
       "<div>\n",
       "<style scoped>\n",
       "    .dataframe tbody tr th:only-of-type {\n",
       "        vertical-align: middle;\n",
       "    }\n",
       "\n",
       "    .dataframe tbody tr th {\n",
       "        vertical-align: top;\n",
       "    }\n",
       "\n",
       "    .dataframe thead th {\n",
       "        text-align: right;\n",
       "    }\n",
       "</style>\n",
       "<table border=\"1\" class=\"dataframe\">\n",
       "  <thead>\n",
       "    <tr style=\"text-align: right;\">\n",
       "      <th></th>\n",
       "      <th>count</th>\n",
       "      <th>mean</th>\n",
       "      <th>median</th>\n",
       "      <th>skew</th>\n",
       "    </tr>\n",
       "    <tr>\n",
       "      <th>Nationality</th>\n",
       "      <th></th>\n",
       "      <th></th>\n",
       "      <th></th>\n",
       "      <th></th>\n",
       "    </tr>\n",
       "  </thead>\n",
       "  <tbody>\n",
       "    <tr>\n",
       "      <th>Afghanistan</th>\n",
       "      <td>3</td>\n",
       "      <td>22.000000</td>\n",
       "      <td>20.0</td>\n",
       "      <td>1.630059</td>\n",
       "    </tr>\n",
       "    <tr>\n",
       "      <th>Albania</th>\n",
       "      <td>35</td>\n",
       "      <td>24.685714</td>\n",
       "      <td>25.0</td>\n",
       "      <td>0.083129</td>\n",
       "    </tr>\n",
       "    <tr>\n",
       "      <th>Algeria</th>\n",
       "      <td>57</td>\n",
       "      <td>26.543860</td>\n",
       "      <td>26.0</td>\n",
       "      <td>-0.030781</td>\n",
       "    </tr>\n",
       "    <tr>\n",
       "      <th>Angola</th>\n",
       "      <td>15</td>\n",
       "      <td>25.600000</td>\n",
       "      <td>25.0</td>\n",
       "      <td>0.691959</td>\n",
       "    </tr>\n",
       "    <tr>\n",
       "      <th>Antigua &amp; Barbuda</th>\n",
       "      <td>5</td>\n",
       "      <td>22.400000</td>\n",
       "      <td>21.0</td>\n",
       "      <td>0.828439</td>\n",
       "    </tr>\n",
       "    <tr>\n",
       "      <th>...</th>\n",
       "      <td>...</td>\n",
       "      <td>...</td>\n",
       "      <td>...</td>\n",
       "      <td>...</td>\n",
       "    </tr>\n",
       "    <tr>\n",
       "      <th>Venezuela</th>\n",
       "      <td>51</td>\n",
       "      <td>24.784314</td>\n",
       "      <td>24.0</td>\n",
       "      <td>0.510654</td>\n",
       "    </tr>\n",
       "    <tr>\n",
       "      <th>Vietnam</th>\n",
       "      <td>1</td>\n",
       "      <td>22.000000</td>\n",
       "      <td>22.0</td>\n",
       "      <td>NaN</td>\n",
       "    </tr>\n",
       "    <tr>\n",
       "      <th>Wales</th>\n",
       "      <td>123</td>\n",
       "      <td>24.926829</td>\n",
       "      <td>24.0</td>\n",
       "      <td>0.785260</td>\n",
       "    </tr>\n",
       "    <tr>\n",
       "      <th>Zambia</th>\n",
       "      <td>7</td>\n",
       "      <td>22.000000</td>\n",
       "      <td>20.0</td>\n",
       "      <td>0.609575</td>\n",
       "    </tr>\n",
       "    <tr>\n",
       "      <th>Zimbabwe</th>\n",
       "      <td>11</td>\n",
       "      <td>25.545455</td>\n",
       "      <td>25.0</td>\n",
       "      <td>0.211410</td>\n",
       "    </tr>\n",
       "  </tbody>\n",
       "</table>\n",
       "<p>165 rows × 4 columns</p>\n",
       "</div>"
      ],
      "text/plain": [
       "                   count       mean  median      skew\n",
       "Nationality                                          \n",
       "Afghanistan            3  22.000000    20.0  1.630059\n",
       "Albania               35  24.685714    25.0  0.083129\n",
       "Algeria               57  26.543860    26.0 -0.030781\n",
       "Angola                15  25.600000    25.0  0.691959\n",
       "Antigua & Barbuda      5  22.400000    21.0  0.828439\n",
       "...                  ...        ...     ...       ...\n",
       "Venezuela             51  24.784314    24.0  0.510654\n",
       "Vietnam                1  22.000000    22.0       NaN\n",
       "Wales                123  24.926829    24.0  0.785260\n",
       "Zambia                 7  22.000000    20.0  0.609575\n",
       "Zimbabwe              11  25.545455    25.0  0.211410\n",
       "\n",
       "[165 rows x 4 columns]"
      ]
     },
     "execution_count": 184,
     "metadata": {},
     "output_type": "execute_result"
    }
   ],
   "source": [
    "nationaliytByage"
   ]
  },
  {
   "cell_type": "code",
   "execution_count": 185,
   "id": "d7d130a1-319d-43b8-8d6d-fc23909dfb7f",
   "metadata": {},
   "outputs": [
    {
     "data": {
      "text/html": [
       "<div>\n",
       "<style scoped>\n",
       "    .dataframe tbody tr th:only-of-type {\n",
       "        vertical-align: middle;\n",
       "    }\n",
       "\n",
       "    .dataframe tbody tr th {\n",
       "        vertical-align: top;\n",
       "    }\n",
       "\n",
       "    .dataframe thead th {\n",
       "        text-align: right;\n",
       "    }\n",
       "</style>\n",
       "<table border=\"1\" class=\"dataframe\">\n",
       "  <thead>\n",
       "    <tr style=\"text-align: right;\">\n",
       "      <th></th>\n",
       "      <th>count</th>\n",
       "      <th>mean</th>\n",
       "      <th>median</th>\n",
       "      <th>skew</th>\n",
       "    </tr>\n",
       "    <tr>\n",
       "      <th>Nationality</th>\n",
       "      <th></th>\n",
       "      <th></th>\n",
       "      <th></th>\n",
       "      <th></th>\n",
       "    </tr>\n",
       "  </thead>\n",
       "  <tbody>\n",
       "    <tr>\n",
       "      <th>Afghanistan</th>\n",
       "      <td>3</td>\n",
       "      <td>56.333333</td>\n",
       "      <td>59.0</td>\n",
       "      <td>-1.668034</td>\n",
       "    </tr>\n",
       "    <tr>\n",
       "      <th>Albania</th>\n",
       "      <td>35</td>\n",
       "      <td>66.257143</td>\n",
       "      <td>67.0</td>\n",
       "      <td>-0.391634</td>\n",
       "    </tr>\n",
       "    <tr>\n",
       "      <th>Algeria</th>\n",
       "      <td>57</td>\n",
       "      <td>70.947368</td>\n",
       "      <td>70.0</td>\n",
       "      <td>0.032546</td>\n",
       "    </tr>\n",
       "    <tr>\n",
       "      <th>Angola</th>\n",
       "      <td>15</td>\n",
       "      <td>68.266667</td>\n",
       "      <td>68.0</td>\n",
       "      <td>-1.119082</td>\n",
       "    </tr>\n",
       "    <tr>\n",
       "      <th>Antigua &amp; Barbuda</th>\n",
       "      <td>5</td>\n",
       "      <td>58.600000</td>\n",
       "      <td>59.0</td>\n",
       "      <td>0.594422</td>\n",
       "    </tr>\n",
       "    <tr>\n",
       "      <th>...</th>\n",
       "      <td>...</td>\n",
       "      <td>...</td>\n",
       "      <td>...</td>\n",
       "      <td>...</td>\n",
       "    </tr>\n",
       "    <tr>\n",
       "      <th>Venezuela</th>\n",
       "      <td>51</td>\n",
       "      <td>69.039216</td>\n",
       "      <td>68.0</td>\n",
       "      <td>0.111815</td>\n",
       "    </tr>\n",
       "    <tr>\n",
       "      <th>Vietnam</th>\n",
       "      <td>1</td>\n",
       "      <td>61.000000</td>\n",
       "      <td>61.0</td>\n",
       "      <td>NaN</td>\n",
       "    </tr>\n",
       "    <tr>\n",
       "      <th>Wales</th>\n",
       "      <td>123</td>\n",
       "      <td>64.243902</td>\n",
       "      <td>64.0</td>\n",
       "      <td>0.547678</td>\n",
       "    </tr>\n",
       "    <tr>\n",
       "      <th>Zambia</th>\n",
       "      <td>7</td>\n",
       "      <td>63.857143</td>\n",
       "      <td>63.0</td>\n",
       "      <td>-0.692559</td>\n",
       "    </tr>\n",
       "    <tr>\n",
       "      <th>Zimbabwe</th>\n",
       "      <td>11</td>\n",
       "      <td>66.545455</td>\n",
       "      <td>67.0</td>\n",
       "      <td>-0.337887</td>\n",
       "    </tr>\n",
       "  </tbody>\n",
       "</table>\n",
       "<p>165 rows × 4 columns</p>\n",
       "</div>"
      ],
      "text/plain": [
       "                   count       mean  median      skew\n",
       "Nationality                                          \n",
       "Afghanistan            3  56.333333    59.0 -1.668034\n",
       "Albania               35  66.257143    67.0 -0.391634\n",
       "Algeria               57  70.947368    70.0  0.032546\n",
       "Angola                15  68.266667    68.0 -1.119082\n",
       "Antigua & Barbuda      5  58.600000    59.0  0.594422\n",
       "...                  ...        ...     ...       ...\n",
       "Venezuela             51  69.039216    68.0  0.111815\n",
       "Vietnam                1  61.000000    61.0       NaN\n",
       "Wales                123  64.243902    64.0  0.547678\n",
       "Zambia                 7  63.857143    63.0 -0.692559\n",
       "Zimbabwe              11  66.545455    67.0 -0.337887\n",
       "\n",
       "[165 rows x 4 columns]"
      ]
     },
     "execution_count": 185,
     "metadata": {},
     "output_type": "execute_result"
    }
   ],
   "source": [
    "nationaliytByraitings"
   ]
  },
  {
   "cell_type": "code",
   "execution_count": 186,
   "id": "1c4a8c51-da48-47b5-afbe-2730ccb2dd5b",
   "metadata": {},
   "outputs": [
    {
     "data": {
      "text/html": [
       "<div>\n",
       "<style scoped>\n",
       "    .dataframe tbody tr th:only-of-type {\n",
       "        vertical-align: middle;\n",
       "    }\n",
       "\n",
       "    .dataframe tbody tr th {\n",
       "        vertical-align: top;\n",
       "    }\n",
       "\n",
       "    .dataframe thead th {\n",
       "        text-align: right;\n",
       "    }\n",
       "</style>\n",
       "<table border=\"1\" class=\"dataframe\">\n",
       "  <thead>\n",
       "    <tr style=\"text-align: right;\">\n",
       "      <th></th>\n",
       "      <th>Name</th>\n",
       "      <th>Age</th>\n",
       "      <th>Nationality</th>\n",
       "      <th>Overall</th>\n",
       "      <th>Acceleration</th>\n",
       "      <th>Aggression</th>\n",
       "      <th>Agility</th>\n",
       "      <th>Balance</th>\n",
       "      <th>Ball control</th>\n",
       "      <th>Composure</th>\n",
       "      <th>...</th>\n",
       "      <th>Sliding tackle</th>\n",
       "      <th>Sprint speed</th>\n",
       "      <th>Stamina</th>\n",
       "      <th>Standing tackle</th>\n",
       "      <th>Strength</th>\n",
       "      <th>Vision</th>\n",
       "      <th>Volleys</th>\n",
       "      <th>Preferred Positions Type</th>\n",
       "      <th>first Position</th>\n",
       "      <th>second Position</th>\n",
       "    </tr>\n",
       "  </thead>\n",
       "  <tbody>\n",
       "    <tr>\n",
       "      <th>0</th>\n",
       "      <td>Cristiano Ronaldo</td>\n",
       "      <td>32</td>\n",
       "      <td>Portugal</td>\n",
       "      <td>94.0</td>\n",
       "      <td>89.0</td>\n",
       "      <td>63.0</td>\n",
       "      <td>89.0</td>\n",
       "      <td>63.0</td>\n",
       "      <td>93.0</td>\n",
       "      <td>95.0</td>\n",
       "      <td>...</td>\n",
       "      <td>23.0</td>\n",
       "      <td>91.0</td>\n",
       "      <td>92.0</td>\n",
       "      <td>31.0</td>\n",
       "      <td>80.0</td>\n",
       "      <td>85.0</td>\n",
       "      <td>88.0</td>\n",
       "      <td>Forward</td>\n",
       "      <td>ST</td>\n",
       "      <td>LW</td>\n",
       "    </tr>\n",
       "    <tr>\n",
       "      <th>1</th>\n",
       "      <td>L. Messi</td>\n",
       "      <td>30</td>\n",
       "      <td>Argentina</td>\n",
       "      <td>93.0</td>\n",
       "      <td>92.0</td>\n",
       "      <td>48.0</td>\n",
       "      <td>90.0</td>\n",
       "      <td>95.0</td>\n",
       "      <td>95.0</td>\n",
       "      <td>96.0</td>\n",
       "      <td>...</td>\n",
       "      <td>26.0</td>\n",
       "      <td>87.0</td>\n",
       "      <td>73.0</td>\n",
       "      <td>28.0</td>\n",
       "      <td>59.0</td>\n",
       "      <td>90.0</td>\n",
       "      <td>85.0</td>\n",
       "      <td>Forward</td>\n",
       "      <td>RW</td>\n",
       "      <td>absent</td>\n",
       "    </tr>\n",
       "    <tr>\n",
       "      <th>2</th>\n",
       "      <td>Neymar</td>\n",
       "      <td>25</td>\n",
       "      <td>Brazil</td>\n",
       "      <td>92.0</td>\n",
       "      <td>94.0</td>\n",
       "      <td>56.0</td>\n",
       "      <td>96.0</td>\n",
       "      <td>82.0</td>\n",
       "      <td>95.0</td>\n",
       "      <td>92.0</td>\n",
       "      <td>...</td>\n",
       "      <td>33.0</td>\n",
       "      <td>90.0</td>\n",
       "      <td>78.0</td>\n",
       "      <td>24.0</td>\n",
       "      <td>53.0</td>\n",
       "      <td>80.0</td>\n",
       "      <td>83.0</td>\n",
       "      <td>Forward</td>\n",
       "      <td>LW</td>\n",
       "      <td>absent</td>\n",
       "    </tr>\n",
       "  </tbody>\n",
       "</table>\n",
       "<p>3 rows × 41 columns</p>\n",
       "</div>"
      ],
      "text/plain": [
       "                Name  Age Nationality  Overall  Acceleration  Aggression  \\\n",
       "0  Cristiano Ronaldo   32    Portugal     94.0          89.0        63.0   \n",
       "1           L. Messi   30   Argentina     93.0          92.0        48.0   \n",
       "2             Neymar   25      Brazil     92.0          94.0        56.0   \n",
       "\n",
       "   Agility  Balance  Ball control  Composure  ...  Sliding tackle  \\\n",
       "0     89.0     63.0          93.0       95.0  ...            23.0   \n",
       "1     90.0     95.0          95.0       96.0  ...            26.0   \n",
       "2     96.0     82.0          95.0       92.0  ...            33.0   \n",
       "\n",
       "   Sprint speed  Stamina  Standing tackle  Strength  Vision  Volleys  \\\n",
       "0          91.0     92.0             31.0      80.0    85.0     88.0   \n",
       "1          87.0     73.0             28.0      59.0    90.0     85.0   \n",
       "2          90.0     78.0             24.0      53.0    80.0     83.0   \n",
       "\n",
       "   Preferred Positions Type  first Position  second Position  \n",
       "0                   Forward              ST              LW   \n",
       "1                   Forward              RW           absent  \n",
       "2                   Forward              LW           absent  \n",
       "\n",
       "[3 rows x 41 columns]"
      ]
     },
     "execution_count": 186,
     "metadata": {},
     "output_type": "execute_result"
    }
   ],
   "source": [
    "df.head(3)"
   ]
  },
  {
   "cell_type": "code",
   "execution_count": 187,
   "id": "0b0b1bb0-60e3-4d94-9e26-85eee42faf23",
   "metadata": {},
   "outputs": [
    {
     "data": {
      "text/plain": [
       "'PortugalArgentinaBrazilUruguayGermanyPolandSpainBelgiumChileCroatiaWalesItalySloveniaFranceGabonSwedenNetherlandsDenmarkSlovakiaEnglandColombiaAustriaGreeceCzech RepublicCosta RicaArmeniaBosnia HerzegovinaIvory CoastSenegalSwitzerlandMoroccoGuineaEgyptAlgeriaCameroonSerbiaJapanTurkeyEcuadorMontenegroKorea RepublicKenyaIcelandMexicoNorwayDR CongoUkraineRussiaFinlandRepublic of IrelandUnited StatesVenezuelaGhanaUzbekistanNigeriaCanadaParaguayRomaniaAlbaniaBurkina FasoCape VerdeNew ZealandNorthern IrelandSyriaPeruScotlandBulgariaAngolaAustraliaSouth AfricaJamaicaTunisiaMozambiqueIranMaliCubaHungaryBelarusSaudi ArabiaChina PRIsraelBeninGeorgiaDominican RepublicLithuaniaKosovoMoldovaBoliviaTogoFYR MacedoniaGuinea BissauHondurasCongoChadCuracaoSierra LeoneGambiaIraqTrinidad & TobagoZimbabweCyprusLatviaNigerLiechtensteinOmanTanzaniaZambiaLibyaHaitiMadagascarEstoniaGuatemalaNew CaledoniaKorea DPRBermudaComorosPanamaPalestineEquatorial GuineaEritreaLuxembourgKuwaitSurinameUgandaMauritaniaEl SalvadorCentral African Rep.AzerbaijanSt Kitts NevisFijiGuamLebanonQatarPhilippinesSomaliaKazakhstanMontserratEthiopiaMauritiusIndiaLiberiaPuerto RicoNamibiaFaroe IslandsGuyanaThailandBarbadosAntigua & BarbudaGibraltarSão Tomé & PríncipeGrenadaBelizeBurundiTurkmenistanSwazilandMaltaSt LuciaSudanVietnamAfghanistanSri LankaKyrgyzstanBrunei DarussalamSan MarinoHong Kong'"
      ]
     },
     "execution_count": 187,
     "metadata": {},
     "output_type": "execute_result"
    }
   ],
   "source": [
    "#checking varieties\n",
    "df.Nationality.unique().sum()"
   ]
  },
  {
   "cell_type": "code",
   "execution_count": 188,
   "id": "1db3631d-8fd1-416a-b635-115291854d9f",
   "metadata": {},
   "outputs": [
    {
     "data": {
      "text/plain": [
       "'ForwardGoalKeeperMidfielderBack'"
      ]
     },
     "execution_count": 188,
     "metadata": {},
     "output_type": "execute_result"
    }
   ],
   "source": [
    "#checking number of varieties\n",
    "df[\"Preferred Positions Type\"].unique().sum()"
   ]
  },
  {
   "cell_type": "code",
   "execution_count": 189,
   "id": "44876c35-0e4f-4241-880c-f7e9cadff1c7",
   "metadata": {},
   "outputs": [],
   "source": [
    "df = df.drop(columns = [\"Name\", \"Nationality\", \"first Position\", \"second Position\"], axis = 1)"
   ]
  },
  {
   "cell_type": "code",
   "execution_count": 190,
   "id": "7b130c34-caa2-4112-9324-980d30912a1b",
   "metadata": {},
   "outputs": [
    {
     "name": "stderr",
     "output_type": "stream",
     "text": [
      "C:\\Users\\nyasa\\Downloads\\ANACONDA\\Lib\\site-packages\\sklearn\\preprocessing\\_encoders.py:868: FutureWarning: `sparse` was renamed to `sparse_output` in version 1.2 and will be removed in 1.4. `sparse_output` is ignored unless you leave `sparse` to its default value.\n",
      "  warnings.warn(\n"
     ]
    }
   ],
   "source": [
    "#separate into input and target variables\n",
    "X = df.drop(columns = [\"Preferred Positions Type\"], axis = 1)\n",
    "#labellling the data using one hot encoding (categorical data)\n",
    "from sklearn.preprocessing import OneHotEncoder\n",
    "encoder = OneHotEncoder(sparse=False)\n",
    "y_encoded = encoder.fit_transform(df[\"Preferred Positions Type\"].values.reshape(-1, 1))"
   ]
  },
  {
   "cell_type": "code",
   "execution_count": 191,
   "id": "9b1e585e-d429-4c01-aa72-148530b97ce8",
   "metadata": {},
   "outputs": [
    {
     "data": {
      "text/html": [
       "<style>#sk-container-id-13 {color: black;background-color: white;}#sk-container-id-13 pre{padding: 0;}#sk-container-id-13 div.sk-toggleable {background-color: white;}#sk-container-id-13 label.sk-toggleable__label {cursor: pointer;display: block;width: 100%;margin-bottom: 0;padding: 0.3em;box-sizing: border-box;text-align: center;}#sk-container-id-13 label.sk-toggleable__label-arrow:before {content: \"▸\";float: left;margin-right: 0.25em;color: #696969;}#sk-container-id-13 label.sk-toggleable__label-arrow:hover:before {color: black;}#sk-container-id-13 div.sk-estimator:hover label.sk-toggleable__label-arrow:before {color: black;}#sk-container-id-13 div.sk-toggleable__content {max-height: 0;max-width: 0;overflow: hidden;text-align: left;background-color: #f0f8ff;}#sk-container-id-13 div.sk-toggleable__content pre {margin: 0.2em;color: black;border-radius: 0.25em;background-color: #f0f8ff;}#sk-container-id-13 input.sk-toggleable__control:checked~div.sk-toggleable__content {max-height: 200px;max-width: 100%;overflow: auto;}#sk-container-id-13 input.sk-toggleable__control:checked~label.sk-toggleable__label-arrow:before {content: \"▾\";}#sk-container-id-13 div.sk-estimator input.sk-toggleable__control:checked~label.sk-toggleable__label {background-color: #d4ebff;}#sk-container-id-13 div.sk-label input.sk-toggleable__control:checked~label.sk-toggleable__label {background-color: #d4ebff;}#sk-container-id-13 input.sk-hidden--visually {border: 0;clip: rect(1px 1px 1px 1px);clip: rect(1px, 1px, 1px, 1px);height: 1px;margin: -1px;overflow: hidden;padding: 0;position: absolute;width: 1px;}#sk-container-id-13 div.sk-estimator {font-family: monospace;background-color: #f0f8ff;border: 1px dotted black;border-radius: 0.25em;box-sizing: border-box;margin-bottom: 0.5em;}#sk-container-id-13 div.sk-estimator:hover {background-color: #d4ebff;}#sk-container-id-13 div.sk-parallel-item::after {content: \"\";width: 100%;border-bottom: 1px solid gray;flex-grow: 1;}#sk-container-id-13 div.sk-label:hover label.sk-toggleable__label {background-color: #d4ebff;}#sk-container-id-13 div.sk-serial::before {content: \"\";position: absolute;border-left: 1px solid gray;box-sizing: border-box;top: 0;bottom: 0;left: 50%;z-index: 0;}#sk-container-id-13 div.sk-serial {display: flex;flex-direction: column;align-items: center;background-color: white;padding-right: 0.2em;padding-left: 0.2em;position: relative;}#sk-container-id-13 div.sk-item {position: relative;z-index: 1;}#sk-container-id-13 div.sk-parallel {display: flex;align-items: stretch;justify-content: center;background-color: white;position: relative;}#sk-container-id-13 div.sk-item::before, #sk-container-id-13 div.sk-parallel-item::before {content: \"\";position: absolute;border-left: 1px solid gray;box-sizing: border-box;top: 0;bottom: 0;left: 50%;z-index: -1;}#sk-container-id-13 div.sk-parallel-item {display: flex;flex-direction: column;z-index: 1;position: relative;background-color: white;}#sk-container-id-13 div.sk-parallel-item:first-child::after {align-self: flex-end;width: 50%;}#sk-container-id-13 div.sk-parallel-item:last-child::after {align-self: flex-start;width: 50%;}#sk-container-id-13 div.sk-parallel-item:only-child::after {width: 0;}#sk-container-id-13 div.sk-dashed-wrapped {border: 1px dashed gray;margin: 0 0.4em 0.5em 0.4em;box-sizing: border-box;padding-bottom: 0.4em;background-color: white;}#sk-container-id-13 div.sk-label label {font-family: monospace;font-weight: bold;display: inline-block;line-height: 1.2em;}#sk-container-id-13 div.sk-label-container {text-align: center;}#sk-container-id-13 div.sk-container {/* jupyter's `normalize.less` sets `[hidden] { display: none; }` but bootstrap.min.css set `[hidden] { display: none !important; }` so we also need the `!important` here to be able to override the default hidden behavior on the sphinx rendered scikit-learn.org. See: https://github.com/scikit-learn/scikit-learn/issues/21755 */display: inline-block !important;position: relative;}#sk-container-id-13 div.sk-text-repr-fallback {display: none;}</style><div id=\"sk-container-id-13\" class=\"sk-top-container\"><div class=\"sk-text-repr-fallback\"><pre>RandomForestClassifier(criterion=&#x27;entropy&#x27;, n_estimators=150)</pre><b>In a Jupyter environment, please rerun this cell to show the HTML representation or trust the notebook. <br />On GitHub, the HTML representation is unable to render, please try loading this page with nbviewer.org.</b></div><div class=\"sk-container\" hidden><div class=\"sk-item\"><div class=\"sk-estimator sk-toggleable\"><input class=\"sk-toggleable__control sk-hidden--visually\" id=\"sk-estimator-id-13\" type=\"checkbox\" checked><label for=\"sk-estimator-id-13\" class=\"sk-toggleable__label sk-toggleable__label-arrow\">RandomForestClassifier</label><div class=\"sk-toggleable__content\"><pre>RandomForestClassifier(criterion=&#x27;entropy&#x27;, n_estimators=150)</pre></div></div></div></div></div>"
      ],
      "text/plain": [
       "RandomForestClassifier(criterion='entropy', n_estimators=150)"
      ]
     },
     "execution_count": 191,
     "metadata": {},
     "output_type": "execute_result"
    }
   ],
   "source": [
    "#splitting into training and testing set\n",
    "from sklearn.model_selection import train_test_split, cross_val_score\n",
    "X_train, X_test, y_train, y_test = train_test_split(X, y_encoded, test_size = 0.2)\n",
    "#model building \n",
    "from sklearn.ensemble import RandomForestClassifier\n",
    "model = RandomForestClassifier(n_estimators = 150, criterion = \"entropy\")\n",
    "model.fit(X_train, y_train)"
   ]
  },
  {
   "cell_type": "code",
   "execution_count": 178,
   "id": "a25a1240-0a07-42ea-8dba-b41eb3e69d94",
   "metadata": {},
   "outputs": [
    {
     "data": {
      "text/plain": [
       "0.9013066444259105"
      ]
     },
     "execution_count": 178,
     "metadata": {},
     "output_type": "execute_result"
    }
   ],
   "source": [
    "#model evaluation\n",
    "score = model.score(X_test, y_test)\n",
    "score"
   ]
  },
  {
   "cell_type": "code",
   "execution_count": 194,
   "id": "f9a05d21-3c21-4404-9185-0b3d9565459e",
   "metadata": {},
   "outputs": [
    {
     "data": {
      "text/plain": [
       "((14384, 36), (14384, 4))"
      ]
     },
     "execution_count": 194,
     "metadata": {},
     "output_type": "execute_result"
    }
   ],
   "source": [
    "X_train.shape, y_train.shape"
   ]
  },
  {
   "cell_type": "code",
   "execution_count": 202,
   "id": "a6e87d79-ff70-47ad-88f9-a793c18e7404",
   "metadata": {},
   "outputs": [
    {
     "name": "stdout",
     "output_type": "stream",
     "text": [
      "Epoch 1/10\n"
     ]
    },
    {
     "name": "stderr",
     "output_type": "stream",
     "text": [
      "C:\\Users\\nyasa\\Downloads\\ANACONDA\\Lib\\site-packages\\keras\\src\\layers\\core\\input_layer.py:26: UserWarning: Argument `input_shape` is deprecated. Use `shape` instead.\n",
      "  warnings.warn(\n"
     ]
    },
    {
     "name": "stdout",
     "output_type": "stream",
     "text": [
      "\u001b[1m450/450\u001b[0m \u001b[32m━━━━━━━━━━━━━━━━━━━━\u001b[0m\u001b[37m\u001b[0m \u001b[1m1s\u001b[0m 680us/step - accuracy: 0.5713 - loss: 1.7971\n",
      "Epoch 2/10\n",
      "\u001b[1m450/450\u001b[0m \u001b[32m━━━━━━━━━━━━━━━━━━━━\u001b[0m\u001b[37m\u001b[0m \u001b[1m0s\u001b[0m 662us/step - accuracy: 0.8277 - loss: 0.2438\n",
      "Epoch 3/10\n",
      "\u001b[1m450/450\u001b[0m \u001b[32m━━━━━━━━━━━━━━━━━━━━\u001b[0m\u001b[37m\u001b[0m \u001b[1m0s\u001b[0m 668us/step - accuracy: 0.8543 - loss: 0.1988\n",
      "Epoch 4/10\n",
      "\u001b[1m450/450\u001b[0m \u001b[32m━━━━━━━━━━━━━━━━━━━━\u001b[0m\u001b[37m\u001b[0m \u001b[1m0s\u001b[0m 667us/step - accuracy: 0.8565 - loss: 0.1892\n",
      "Epoch 5/10\n",
      "\u001b[1m450/450\u001b[0m \u001b[32m━━━━━━━━━━━━━━━━━━━━\u001b[0m\u001b[37m\u001b[0m \u001b[1m0s\u001b[0m 682us/step - accuracy: 0.8751 - loss: 0.1699\n",
      "Epoch 6/10\n",
      "\u001b[1m450/450\u001b[0m \u001b[32m━━━━━━━━━━━━━━━━━━━━\u001b[0m\u001b[37m\u001b[0m \u001b[1m0s\u001b[0m 667us/step - accuracy: 0.8642 - loss: 0.1731\n",
      "Epoch 7/10\n",
      "\u001b[1m450/450\u001b[0m \u001b[32m━━━━━━━━━━━━━━━━━━━━\u001b[0m\u001b[37m\u001b[0m \u001b[1m0s\u001b[0m 686us/step - accuracy: 0.8834 - loss: 0.1530\n",
      "Epoch 8/10\n",
      "\u001b[1m450/450\u001b[0m \u001b[32m━━━━━━━━━━━━━━━━━━━━\u001b[0m\u001b[37m\u001b[0m \u001b[1m0s\u001b[0m 668us/step - accuracy: 0.8751 - loss: 0.1559\n",
      "Epoch 9/10\n",
      "\u001b[1m450/450\u001b[0m \u001b[32m━━━━━━━━━━━━━━━━━━━━\u001b[0m\u001b[37m\u001b[0m \u001b[1m0s\u001b[0m 675us/step - accuracy: 0.8813 - loss: 0.1517\n",
      "Epoch 10/10\n",
      "\u001b[1m450/450\u001b[0m \u001b[32m━━━━━━━━━━━━━━━━━━━━\u001b[0m\u001b[37m\u001b[0m \u001b[1m0s\u001b[0m 670us/step - accuracy: 0.8817 - loss: 0.1555\n"
     ]
    },
    {
     "data": {
      "text/plain": [
       "<keras.src.callbacks.history.History at 0x1c0449c7290>"
      ]
     },
     "execution_count": 202,
     "metadata": {},
     "output_type": "execute_result"
    }
   ],
   "source": [
    "#creatiion of a simple neural network for prediction\n",
    "import tensorflow as tf\n",
    "from tensorflow import keras\n",
    "import numpy as np\n",
    "\n",
    "model = keras.Sequential([\n",
    "    keras.layers.InputLayer(input_shape = (36, )),\n",
    "    keras.layers.Dense(36, activation = \"leaky_relu\"),\n",
    "    keras.layers.Dense(6, activation = \"leaky_relu\"),\n",
    "    keras.layers.Dense(4, activation = \"sigmoid\")\n",
    "])\n",
    "model.compile(\n",
    "    optimizer = \"adam\",\n",
    "    loss = \"binary_crossentropy\",\n",
    "    metrics = [\"accuracy\"]\n",
    ")\n",
    "model.fit(X_train, y_train, epochs = 10)"
   ]
  },
  {
   "cell_type": "code",
   "execution_count": 207,
   "id": "2c83d879-2d30-41e1-a0df-ad0192068233",
   "metadata": {},
   "outputs": [
    {
     "name": "stdout",
     "output_type": "stream",
     "text": [
      "\u001b[1m113/113\u001b[0m \u001b[32m━━━━━━━━━━━━━━━━━━━━\u001b[0m\u001b[37m\u001b[0m \u001b[1m0s\u001b[0m 618us/step - accuracy: 0.8758 - loss: 0.1580\n"
     ]
    },
    {
     "data": {
      "text/plain": [
       "[0.15193863213062286, 0.8854600787162781]"
      ]
     },
     "execution_count": 207,
     "metadata": {},
     "output_type": "execute_result"
    }
   ],
   "source": [
    "#network evaluation\n",
    "model.evaluate(X_test, y_test)"
   ]
  },
  {
   "cell_type": "code",
   "execution_count": 213,
   "id": "8194f0c2-1aa7-49e0-969a-908cb0678284",
   "metadata": {},
   "outputs": [
    {
     "name": "stdout",
     "output_type": "stream",
     "text": [
      "\u001b[1m113/113\u001b[0m \u001b[32m━━━━━━━━━━━━━━━━━━━━\u001b[0m\u001b[37m\u001b[0m \u001b[1m0s\u001b[0m 569us/step\n"
     ]
    }
   ],
   "source": [
    "#making predictions of the X_test set and labelling them\n",
    "y_predicted = model.predict(X_test)\n",
    "y_predicted_labels = [np.argmax(i) for i in y_predicted]\n",
    "y_test_labels = [np.argmax(i) for i in y_test]"
   ]
  },
  {
   "cell_type": "code",
   "execution_count": 214,
   "id": "eae9cf0b-361e-45ff-92e2-a4f146709094",
   "metadata": {},
   "outputs": [
    {
     "data": {
      "text/plain": [
       "Text(120.72222222222221, 0.5, 'truth')"
      ]
     },
     "execution_count": 214,
     "metadata": {},
     "output_type": "execute_result"
    },
    {
     "data": {
      "image/png": "[encoded data removed]",
      "text/plain": [
       "<Figure size 1200x600 with 2 Axes>"
      ]
     },
     "metadata": {},
     "output_type": "display_data"
    }
   ],
   "source": [
    "#plotting a confusion matrix for a better view of the evaluation\n",
    "confusion_matrix = tf.math.confusion_matrix(labels=y_test_labels, predictions=y_predicted_labels)\n",
    "import seaborn as sns\n",
    "plt.figure(figsize = (12, 6))\n",
    "sns.heatmap(confusion_matrix, annot = True, alpha = 0.5)\n",
    "plt.title(\"Model evaluation\")\n",
    "plt.xlabel(\"predicted\")\n",
    "plt.ylabel(\"truth\")"
   ]
  }
 ],
 "metadata": {
  "kernelspec": {
   "display_name": "Python 3 (ipykernel)",
   "language": "python",
   "name": "python3"
  },
  "language_info": {
   "codemirror_mode": {
    "name": "ipython",
    "version": 3
   },
   "file_extension": ".py",
   "mimetype": "text/x-python",
   "name": "python",
   "nbconvert_exporter": "python",
   "pygments_lexer": "ipython3",
   "version": "3.11.7"
  }
 },
 "nbformat": 4,
 "nbformat_minor": 5
}
