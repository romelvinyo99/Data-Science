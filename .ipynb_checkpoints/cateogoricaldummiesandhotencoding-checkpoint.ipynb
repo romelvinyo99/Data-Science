{
 "cells": [
  {
   "cell_type": "code",
   "execution_count": null,
   "id": "e13c0fb6-ec29-453b-aba5-6c322a3c91e8",
   "metadata": {},
   "outputs": [],
   "source": [
    "import pandas as pd\n",
    "from sklearn.linear_model import LinearRegression"
   ]
  },
  {
   "cell_type": "code",
   "execution_count": null,
   "id": "734faaf9-7e34-464f-90ff-d4e33881751d",
   "metadata": {},
   "outputs": [],
   "source": [
    "\n",
    "# Create a DataFrame without indexes\n",
    "df = pd.DataFrame({\n",
    "    \"town\":[\"monroe township\", \"monroe township\", \"monroe township\", \"monroe township\", \"monroe township\", \"west windsor\", \"west windsor\", \"west windsor\", \"west windsor\", \"robbinsville\", \"robbinsville\", \"robbinsville\", \"robbinsville\"],\n",
    "    \"area\":[2600, 3000, 3200, 3600, 4000, 2600, 2800, 3300, 3600, 2600, 2900, 3100, 3600],\n",
    "    \"price\":[550000, 565000, 610000, 680000, 725000, 585000, 615000, 650000, 710000, 575000, 600000, 620000, 695000]\n",
    "})\n",
    "df.head(3)\n"
   ]
  },
  {
   "cell_type": "code",
   "execution_count": null,
   "id": "258aad2d-7f93-4e11-b273-32eafed71485",
   "metadata": {},
   "outputs": [],
   "source": [
    "#...Maunual one-hot-encoding..\n",
    "\n",
    "\n",
    "#getting the dummy variables - dummy variable  trap\n",
    "dummy = pd.get_dummies(df[\"town\"])\n",
    "final = dummy.drop(columns = [\"west windsor\"])\n",
    "final.head(3)\n",
    "#combining the dummy dataframe with the main dataframe - dropping the dummy parent variable\n",
    "merged = pd.concat([df, final], axis = \"columns\")\n",
    "final1 = merged.drop(columns = [\"town\"])\n",
    "#creation of a model\n",
    "model = LinearRegression()\n",
    "#splitting the data\n",
    "X = final1.drop(columns = [\"price\"], axis = \"columns\")\n",
    "y = final1[\"price\"]\n",
    "#training the model\n",
    "model.fit(X, y)\n",
    "#making predictions\n",
    "predictions = model.predict([[2800, 0, 1], [3400, 0, 0]])\n",
    "#evaluating accuracy\n",
    "score = model.score(X, y)"
   ]
  },
  {
   "cell_type": "code",
   "execution_count": 101,
   "id": "113375f8-7d58-4f88-a947-50d75a698b35",
   "metadata": {},
   "outputs": [],
   "source": [
    "#...Sklearn one-hot-encoding...\n",
    "\n",
    "\n",
    "from sklearn.preprocessing import LabelEncoder\n",
    "\n",
    "#creating an object\n",
    "le = LabelEncoder()\n",
    "\n",
    "#fitting and transformation - integer numbers\n",
    "dfle = df.copy()\n",
    "dfle.town = le.fit_transform(dfle.town)\n",
    "\n",
    "\n",
    "#splitting the data - values converts into 2D array\n",
    "X1 = dfle[[\"town\", \"area\"]].values\n",
    "y1 = dfle[\"price\"]\n",
    "\n",
    "\n",
    "#creating dummy variables - one hot encoding\n",
    "\n",
    "from sklearn.preprocessing import OneHotEncoder\n",
    "\n",
    "#this is to specify transformation of the 0th column\n",
    "from sklearn.compose import ColumnTransformer\n",
    "ct = ColumnTransformer(\n",
    "    transformers = [\n",
    "        (\"encoder\", OneHotEncoder(), [0])\n",
    "    ],\n",
    "    remainder = \"passthrough\"\n",
    ")\n",
    "X1_transformed = ct.fit_transform(X1)\n",
    "#avoiding the dummy trap\n",
    "X1_transformed = X1_transformed[:, 1:]\n",
    "\n",
    "#training the model\n",
    "model.fit(X1_transformed, y)\n",
    "predictions = model.predict([[1, 0, 2800], [0, 1, 3400]])\n",
    "\n",
    "score = model.score(X1_transformed, y1)"
   ]
  },
  {
   "cell_type": "code",
   "execution_count": 102,
   "id": "7eb50193-dabf-4b0c-95a9-52decaacf4f9",
   "metadata": {},
   "outputs": [
    {
     "data": {
      "text/plain": [
       "array([590775.63964739, 681241.66845839])"
      ]
     },
     "execution_count": 102,
     "metadata": {},
     "output_type": "execute_result"
    }
   ],
   "source": [
    "predictions"
   ]
  }
 ],
 "metadata": {
  "kernelspec": {
   "display_name": "Python 3 (ipykernel)",
   "language": "python",
   "name": "python3"
  },
  "language_info": {
   "codemirror_mode": {
    "name": "ipython",
    "version": 3
   },
   "file_extension": ".py",
   "mimetype": "text/x-python",
   "name": "python",
   "nbconvert_exporter": "python",
   "pygments_lexer": "ipython3",
   "version": "3.11.7"
  }
 },
 "nbformat": 4,
 "nbformat_minor": 5
}
