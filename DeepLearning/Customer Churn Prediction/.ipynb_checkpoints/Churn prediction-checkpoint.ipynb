{
 "cells": [
  {
   "cell_type": "code",
   "execution_count": 192,
   "id": "be6214c5-c6e5-4341-832a-b1ab03549fd7",
   "metadata": {},
   "outputs": [],
   "source": [
    "import pandas as pd\n",
    "import numpy as np\n",
    "from sklearn.preprocessing import MinMaxScaler, LabelEncoder\n",
    "from sklearn.model_selection import train_test_split\n",
    "import tensorflow as tf\n",
    "from tensorflow import keras\n",
    "df = pd.read_csv(\"customer_churn.csv\")\n",
    "df.drop(columns = [\"customerID\"], axis = 1, inplace = True)\n",
    "# Ensure that TotalCharges is converted correctly\n",
    "df[\"TotalCharges\"] = pd.to_numeric(df[\"TotalCharges\"], errors=\"coerce\")\n",
    "\n",
    "# Drop any rows with missing TotalCharges values\n",
    "df.dropna(inplace=True)"
   ]
  },
  {
   "cell_type": "code",
   "execution_count": 193,
   "id": "8e3f3a79-fc11-4047-b1aa-10bf28f2a57f",
   "metadata": {},
   "outputs": [],
   "source": [
    "# Convert categorical variables to numeric\n",
    "yes_no_column = [\"gender\", \"Partner\", \"Dependents\", \"PhoneService\", \"MultipleLines\", \"OnlineSecurity\",\n",
    "                 \"OnlineBackup\", \"DeviceProtection\", \"TechSupport\", \"StreamingTV\", \"StreamingMovies\",\n",
    "                 \"PaperlessBilling\", \"Churn\"]\n",
    "\n",
    "le = LabelEncoder()\n",
    "for column in yes_no_column:\n",
    "    df[column] = le.fit_transform(df[column])"
   ]
  },
  {
   "cell_type": "code",
   "execution_count": 194,
   "id": "d869cf93-645f-4c43-af0a-e0f2f608ab67",
   "metadata": {},
   "outputs": [],
   "source": [
    "# One-hot encoding for categorical columns with more than two categories\n",
    "df = pd.get_dummies(df, columns=[\"InternetService\", \"Contract\", \"PaymentMethod\"])\n",
    "\n",
    "# Scale numeric columns\n",
    "cols_to_scale = [\"tenure\", \"MonthlyCharges\", \"TotalCharges\"]\n",
    "scaler = MinMaxScaler()\n",
    "df[cols_to_scale] = scaler.fit_transform(df[cols_to_scale])\n"
   ]
  },
  {
   "cell_type": "code",
   "execution_count": 195,
   "id": "4d9eb99d-c91a-41b0-b895-399ce41b3e03",
   "metadata": {},
   "outputs": [],
   "source": [
    "# Define X and y\n",
    "X = df.drop(columns=[\"Churn\"])\n",
    "y = df[\"Churn\"]\n",
    "\n",
    "# Split data\n",
    "X_train, X_test, y_train, y_test = train_test_split(X, y, test_size=0.2, random_state=42)\n",
    "\n",
    "\n",
    "# Ensure all data is float32\n",
    "X_train = X_train.astype(np.float32)\n",
    "X_test = X_test.astype(np.float32)\n",
    "y_train = y_train.astype(np.float32)\n",
    "y_test = y_test.astype(np.float32)"
   ]
  },
  {
   "cell_type": "code",
   "execution_count": 196,
   "id": "c07adc05-d0e9-4304-b09c-ed5d53fb59c3",
   "metadata": {},
   "outputs": [
    {
     "name": "stdout",
     "output_type": "stream",
     "text": [
      "X_train shape: (5625, 26), y_train shape: (5625,)\n",
      "Unique labels in y_train: [0. 1.]\n"
     ]
    }
   ],
   "source": [
    "# Ensure correct data types and shapes\n",
    "print(f\"X_train shape: {X_train.shape}, y_train shape: {y_train.shape}\")\n",
    "print(f\"Unique labels in y_train: {np.unique(y_train)}\")\n"
   ]
  },
  {
   "cell_type": "code",
   "execution_count": 199,
   "id": "d13f8aa6-5579-431c-9c5f-7d8f2c8933c0",
   "metadata": {},
   "outputs": [
    {
     "name": "stdout",
     "output_type": "stream",
     "text": [
      "Epoch 1/100\n",
      "176/176 [==============================] - 1s 989us/step - loss: 0.4927 - accuracy: 0.7620\n",
      "Epoch 2/100\n",
      "176/176 [==============================] - 0s 1ms/step - loss: 0.4310 - accuracy: 0.7989\n",
      "Epoch 3/100\n",
      "176/176 [==============================] - 0s 1ms/step - loss: 0.4226 - accuracy: 0.8034\n",
      "Epoch 4/100\n",
      "176/176 [==============================] - 0s 1ms/step - loss: 0.4189 - accuracy: 0.8052\n",
      "Epoch 5/100\n",
      "176/176 [==============================] - 0s 1ms/step - loss: 0.4157 - accuracy: 0.8046\n",
      "Epoch 6/100\n",
      "176/176 [==============================] - 0s 1ms/step - loss: 0.4130 - accuracy: 0.8082\n",
      "Epoch 7/100\n",
      "176/176 [==============================] - 0s 1ms/step - loss: 0.4121 - accuracy: 0.8071\n",
      "Epoch 8/100\n",
      "176/176 [==============================] - 0s 1ms/step - loss: 0.4099 - accuracy: 0.8096\n",
      "Epoch 9/100\n",
      "176/176 [==============================] - 0s 1ms/step - loss: 0.4089 - accuracy: 0.8091\n",
      "Epoch 10/100\n",
      "176/176 [==============================] - 0s 1ms/step - loss: 0.4076 - accuracy: 0.8092\n",
      "Epoch 11/100\n",
      "176/176 [==============================] - 0s 1ms/step - loss: 0.4071 - accuracy: 0.8092\n",
      "Epoch 12/100\n",
      "176/176 [==============================] - 0s 1ms/step - loss: 0.4056 - accuracy: 0.8076\n",
      "Epoch 13/100\n",
      "176/176 [==============================] - 0s 1ms/step - loss: 0.4050 - accuracy: 0.8121\n",
      "Epoch 14/100\n",
      "176/176 [==============================] - 0s 1ms/step - loss: 0.4042 - accuracy: 0.8114\n",
      "Epoch 15/100\n",
      "176/176 [==============================] - 0s 1ms/step - loss: 0.4034 - accuracy: 0.8087\n",
      "Epoch 16/100\n",
      "176/176 [==============================] - 0s 1ms/step - loss: 0.4026 - accuracy: 0.8107\n",
      "Epoch 17/100\n",
      "176/176 [==============================] - 0s 982us/step - loss: 0.4023 - accuracy: 0.8100\n",
      "Epoch 18/100\n",
      "176/176 [==============================] - 0s 1ms/step - loss: 0.4014 - accuracy: 0.8089\n",
      "Epoch 19/100\n",
      "176/176 [==============================] - 0s 1ms/step - loss: 0.4003 - accuracy: 0.8117\n",
      "Epoch 20/100\n",
      "176/176 [==============================] - 0s 1ms/step - loss: 0.4011 - accuracy: 0.8108\n",
      "Epoch 21/100\n",
      "176/176 [==============================] - 0s 1ms/step - loss: 0.3981 - accuracy: 0.8091\n",
      "Epoch 22/100\n",
      "176/176 [==============================] - 0s 1ms/step - loss: 0.3989 - accuracy: 0.8110\n",
      "Epoch 23/100\n",
      "176/176 [==============================] - 0s 1ms/step - loss: 0.3985 - accuracy: 0.8119\n",
      "Epoch 24/100\n",
      "176/176 [==============================] - 0s 1ms/step - loss: 0.3977 - accuracy: 0.8123\n",
      "Epoch 25/100\n",
      "176/176 [==============================] - 0s 1ms/step - loss: 0.3983 - accuracy: 0.8114\n",
      "Epoch 26/100\n",
      "176/176 [==============================] - 0s 1ms/step - loss: 0.3974 - accuracy: 0.8121\n",
      "Epoch 27/100\n",
      "176/176 [==============================] - 0s 1ms/step - loss: 0.3964 - accuracy: 0.8140\n",
      "Epoch 28/100\n",
      "176/176 [==============================] - 0s 1ms/step - loss: 0.3958 - accuracy: 0.8151\n",
      "Epoch 29/100\n",
      "176/176 [==============================] - 0s 1ms/step - loss: 0.3954 - accuracy: 0.8107\n",
      "Epoch 30/100\n",
      "176/176 [==============================] - 0s 1ms/step - loss: 0.3950 - accuracy: 0.8128\n",
      "Epoch 31/100\n",
      "176/176 [==============================] - 0s 1ms/step - loss: 0.3946 - accuracy: 0.8158\n",
      "Epoch 32/100\n",
      "176/176 [==============================] - 0s 1ms/step - loss: 0.3946 - accuracy: 0.8128\n",
      "Epoch 33/100\n",
      "176/176 [==============================] - 0s 1ms/step - loss: 0.3930 - accuracy: 0.8137\n",
      "Epoch 34/100\n",
      "176/176 [==============================] - 0s 1ms/step - loss: 0.3930 - accuracy: 0.8151\n",
      "Epoch 35/100\n",
      "176/176 [==============================] - 0s 1ms/step - loss: 0.3929 - accuracy: 0.8158\n",
      "Epoch 36/100\n",
      "176/176 [==============================] - 0s 1ms/step - loss: 0.3927 - accuracy: 0.8133\n",
      "Epoch 37/100\n",
      "176/176 [==============================] - 0s 1ms/step - loss: 0.3923 - accuracy: 0.8133\n",
      "Epoch 38/100\n",
      "176/176 [==============================] - 0s 1ms/step - loss: 0.3915 - accuracy: 0.8130\n",
      "Epoch 39/100\n",
      "176/176 [==============================] - 0s 1ms/step - loss: 0.3909 - accuracy: 0.8116\n",
      "Epoch 40/100\n",
      "176/176 [==============================] - 0s 2ms/step - loss: 0.3907 - accuracy: 0.8160\n",
      "Epoch 41/100\n",
      "176/176 [==============================] - 0s 1ms/step - loss: 0.3901 - accuracy: 0.8151\n",
      "Epoch 42/100\n",
      "176/176 [==============================] - 0s 1ms/step - loss: 0.3899 - accuracy: 0.8165\n",
      "Epoch 43/100\n",
      "176/176 [==============================] - 0s 1ms/step - loss: 0.3893 - accuracy: 0.8169\n",
      "Epoch 44/100\n",
      "176/176 [==============================] - 0s 1ms/step - loss: 0.3892 - accuracy: 0.8140\n",
      "Epoch 45/100\n",
      "176/176 [==============================] - 0s 1ms/step - loss: 0.3889 - accuracy: 0.8155\n",
      "Epoch 46/100\n",
      "176/176 [==============================] - 0s 1ms/step - loss: 0.3899 - accuracy: 0.8172\n",
      "Epoch 47/100\n",
      "176/176 [==============================] - 0s 1ms/step - loss: 0.3880 - accuracy: 0.8149\n",
      "Epoch 48/100\n",
      "176/176 [==============================] - 0s 1ms/step - loss: 0.3885 - accuracy: 0.8155\n",
      "Epoch 49/100\n",
      "176/176 [==============================] - 0s 1ms/step - loss: 0.3885 - accuracy: 0.8187\n",
      "Epoch 50/100\n",
      "176/176 [==============================] - 0s 1ms/step - loss: 0.3883 - accuracy: 0.8162\n",
      "Epoch 51/100\n",
      "176/176 [==============================] - 0s 1ms/step - loss: 0.3867 - accuracy: 0.8158\n",
      "Epoch 52/100\n",
      "176/176 [==============================] - 0s 1ms/step - loss: 0.3867 - accuracy: 0.8181\n",
      "Epoch 53/100\n",
      "176/176 [==============================] - 0s 1ms/step - loss: 0.3864 - accuracy: 0.8153\n",
      "Epoch 54/100\n",
      "176/176 [==============================] - 0s 1ms/step - loss: 0.3858 - accuracy: 0.8187\n",
      "Epoch 55/100\n",
      "176/176 [==============================] - 0s 1ms/step - loss: 0.3856 - accuracy: 0.8199\n",
      "Epoch 56/100\n",
      "176/176 [==============================] - 0s 1ms/step - loss: 0.3848 - accuracy: 0.8187\n",
      "Epoch 57/100\n",
      "176/176 [==============================] - 0s 1ms/step - loss: 0.3862 - accuracy: 0.8171\n",
      "Epoch 58/100\n",
      "176/176 [==============================] - 0s 1ms/step - loss: 0.3849 - accuracy: 0.8174\n",
      "Epoch 59/100\n",
      "176/176 [==============================] - 0s 1ms/step - loss: 0.3843 - accuracy: 0.8185\n",
      "Epoch 60/100\n",
      "176/176 [==============================] - 0s 1ms/step - loss: 0.3842 - accuracy: 0.8203\n",
      "Epoch 61/100\n",
      "176/176 [==============================] - 0s 1ms/step - loss: 0.3841 - accuracy: 0.8188\n",
      "Epoch 62/100\n",
      "176/176 [==============================] - 0s 1ms/step - loss: 0.3836 - accuracy: 0.8196\n",
      "Epoch 63/100\n",
      "176/176 [==============================] - 0s 1ms/step - loss: 0.3831 - accuracy: 0.8215\n",
      "Epoch 64/100\n",
      "176/176 [==============================] - 0s 1ms/step - loss: 0.3830 - accuracy: 0.8190\n",
      "Epoch 65/100\n",
      "176/176 [==============================] - 0s 1ms/step - loss: 0.3832 - accuracy: 0.8174\n",
      "Epoch 66/100\n",
      "176/176 [==============================] - 0s 1ms/step - loss: 0.3831 - accuracy: 0.8196\n",
      "Epoch 67/100\n",
      "176/176 [==============================] - 0s 1ms/step - loss: 0.3839 - accuracy: 0.8190\n",
      "Epoch 68/100\n",
      "176/176 [==============================] - 0s 1ms/step - loss: 0.3822 - accuracy: 0.8183\n",
      "Epoch 69/100\n",
      "176/176 [==============================] - 0s 1ms/step - loss: 0.3815 - accuracy: 0.8203\n",
      "Epoch 70/100\n",
      "176/176 [==============================] - 0s 1ms/step - loss: 0.3816 - accuracy: 0.8185\n",
      "Epoch 71/100\n",
      "176/176 [==============================] - 0s 1ms/step - loss: 0.3811 - accuracy: 0.8203\n",
      "Epoch 72/100\n",
      "176/176 [==============================] - 0s 1ms/step - loss: 0.3814 - accuracy: 0.8201\n",
      "Epoch 73/100\n",
      "176/176 [==============================] - 0s 1ms/step - loss: 0.3804 - accuracy: 0.8190\n",
      "Epoch 74/100\n",
      "176/176 [==============================] - 0s 1ms/step - loss: 0.3804 - accuracy: 0.8222\n",
      "Epoch 75/100\n",
      "176/176 [==============================] - 0s 1ms/step - loss: 0.3797 - accuracy: 0.8231\n",
      "Epoch 76/100\n",
      "176/176 [==============================] - 0s 1ms/step - loss: 0.3799 - accuracy: 0.8208\n",
      "Epoch 77/100\n",
      "176/176 [==============================] - 0s 1ms/step - loss: 0.3795 - accuracy: 0.8224\n",
      "Epoch 78/100\n",
      "176/176 [==============================] - 0s 1ms/step - loss: 0.3791 - accuracy: 0.8201\n",
      "Epoch 79/100\n",
      "176/176 [==============================] - 0s 1ms/step - loss: 0.3787 - accuracy: 0.8203\n",
      "Epoch 80/100\n",
      "176/176 [==============================] - 0s 1ms/step - loss: 0.3797 - accuracy: 0.8220\n",
      "Epoch 81/100\n",
      "176/176 [==============================] - 0s 1ms/step - loss: 0.3782 - accuracy: 0.8233\n",
      "Epoch 82/100\n",
      "176/176 [==============================] - 0s 1ms/step - loss: 0.3786 - accuracy: 0.8247\n",
      "Epoch 83/100\n",
      "176/176 [==============================] - 0s 1ms/step - loss: 0.3777 - accuracy: 0.8242\n",
      "Epoch 84/100\n",
      "176/176 [==============================] - 0s 1ms/step - loss: 0.3784 - accuracy: 0.8219\n",
      "Epoch 85/100\n",
      "176/176 [==============================] - 0s 1ms/step - loss: 0.3768 - accuracy: 0.8263\n",
      "Epoch 86/100\n",
      "176/176 [==============================] - 0s 1ms/step - loss: 0.3772 - accuracy: 0.8263\n",
      "Epoch 87/100\n",
      "176/176 [==============================] - 0s 1ms/step - loss: 0.3769 - accuracy: 0.8226\n",
      "Epoch 88/100\n",
      "176/176 [==============================] - 0s 1ms/step - loss: 0.3769 - accuracy: 0.8252\n",
      "Epoch 89/100\n",
      "176/176 [==============================] - 0s 1ms/step - loss: 0.3787 - accuracy: 0.8252\n",
      "Epoch 90/100\n",
      "176/176 [==============================] - 0s 1ms/step - loss: 0.3761 - accuracy: 0.8238\n",
      "Epoch 91/100\n",
      "176/176 [==============================] - 0s 1ms/step - loss: 0.3760 - accuracy: 0.8226\n",
      "Epoch 92/100\n",
      "176/176 [==============================] - 0s 1ms/step - loss: 0.3760 - accuracy: 0.8238\n",
      "Epoch 93/100\n",
      "176/176 [==============================] - 0s 1ms/step - loss: 0.3760 - accuracy: 0.8229\n",
      "Epoch 94/100\n",
      "176/176 [==============================] - 0s 1ms/step - loss: 0.3755 - accuracy: 0.8236\n",
      "Epoch 95/100\n",
      "176/176 [==============================] - 0s 1ms/step - loss: 0.3756 - accuracy: 0.8240\n",
      "Epoch 96/100\n",
      "176/176 [==============================] - 0s 1ms/step - loss: 0.3753 - accuracy: 0.8247\n",
      "Epoch 97/100\n",
      "176/176 [==============================] - 0s 1ms/step - loss: 0.3747 - accuracy: 0.8277\n",
      "Epoch 98/100\n",
      "176/176 [==============================] - 0s 1ms/step - loss: 0.3759 - accuracy: 0.8244\n",
      "Epoch 99/100\n",
      "176/176 [==============================] - 0s 1ms/step - loss: 0.3748 - accuracy: 0.8258\n",
      "Epoch 100/100\n",
      "176/176 [==============================] - 0s 1ms/step - loss: 0.3743 - accuracy: 0.8249\n"
     ]
    },
    {
     "data": {
      "text/plain": [
       "<keras.src.callbacks.History at 0x1e956d15350>"
      ]
     },
     "execution_count": 199,
     "metadata": {},
     "output_type": "execute_result"
    }
   ],
   "source": [
    "\n",
    "# Build and compile the model\n",
    "model = keras.Sequential([\n",
    "    keras.layers.Dense(26, input_shape=(26,), activation=\"relu\"),\n",
    "    keras.layers.Dense(1, activation=\"sigmoid\")\n",
    "])\n",
    "\n",
    "model.compile(\n",
    "    optimizer=\"adam\",\n",
    "    loss=\"binary_crossentropy\",\n",
    "    metrics=[\"accuracy\"]\n",
    ")\n",
    "\n",
    "# Train the model\n",
    "model.fit(X_train, y_train, epochs=100, batch_size=32)  # Reduced epochs for quicker testing\n"
   ]
  },
  {
   "cell_type": "code",
   "execution_count": 198,
   "id": "1876de9c-3070-418d-9c09-6e3028bf042e",
   "metadata": {},
   "outputs": [
    {
     "name": "stdout",
     "output_type": "stream",
     "text": [
      "44/44 [==============================] - 0s 945us/step - loss: 0.4397 - accuracy: 0.7804\n",
      "Test Accuracy: 0.7803837656974792\n"
     ]
    }
   ],
   "source": [
    "# Evaluate the model on the test set\n",
    "test_loss, test_accuracy = model.evaluate(X_test, y_test)\n",
    "print(f\"Test Accuracy: {test_accuracy}\")\n"
   ]
  },
  {
   "cell_type": "code",
   "execution_count": 220,
   "id": "1cd6e384-ad46-46fd-89cd-a62b9fcf95de",
   "metadata": {},
   "outputs": [
    {
     "name": "stdout",
     "output_type": "stream",
     "text": [
      "44/44 [==============================] - 0s 801us/step\n"
     ]
    },
    {
     "data": {
      "text/plain": [
       "array([[0.01705611],\n",
       "       [0.08153573],\n",
       "       [0.68881303],\n",
       "       ...,\n",
       "       [0.09211257],\n",
       "       [0.54943895],\n",
       "       [0.00492327]], dtype=float32)"
      ]
     },
     "execution_count": 220,
     "metadata": {},
     "output_type": "execute_result"
    }
   ],
   "source": [
    "y_pred = model.predict(X_test)\n",
    "y_pred"
   ]
  },
  {
   "cell_type": "code",
   "execution_count": 218,
   "id": "0253fd90-fd3e-4af4-bc7a-2249e27f9365",
   "metadata": {},
   "outputs": [],
   "source": [
    "y_predicted = []\n",
    "\n",
    "for element in y_pred:\n",
    "    if element > 0.5:\n",
    "        y_predicted.append(1)\n",
    "    else:\n",
    "        y_predicted.append(0)"
   ]
  },
  {
   "cell_type": "code",
   "execution_count": 227,
   "id": "258b775e-32bf-437c-9a7c-48ceb8756362",
   "metadata": {},
   "outputs": [
    {
     "name": "stdout",
     "output_type": "stream",
     "text": [
      "              precision    recall  f1-score   support\n",
      "\n",
      "         0.0       0.83      0.89      0.86      1033\n",
      "         1.0       0.62      0.49      0.55       374\n",
      "\n",
      "    accuracy                           0.79      1407\n",
      "   macro avg       0.73      0.69      0.71      1407\n",
      "weighted avg       0.78      0.79      0.78      1407\n",
      "\n"
     ]
    }
   ],
   "source": [
    "from sklearn.metrics import confusion_matrix, classification_report\n",
    "print(classification_report(y_test, y_predicted))"
   ]
  },
  {
   "cell_type": "code",
   "execution_count": 228,
   "id": "99399f7a-863d-4490-9365-a03e0dc94bd7",
   "metadata": {},
   "outputs": [
    {
     "data": {
      "text/plain": [
       "Text(50.722222222222214, 0.5, 'truth')"
      ]
     },
     "execution_count": 228,
     "metadata": {},
     "output_type": "execute_result"
    },
    {
     "data": {
      "image/png": "[encoded data removed]",
      "text/plain": [
       "<Figure size 640x480 with 2 Axes>"
      ]
     },
     "metadata": {},
     "output_type": "display_data"
    }
   ],
   "source": [
    "confusion_matrix = confusion_matrix(y_test, y_predicted)\n",
    "import seaborn as sns\n",
    "plt.figure()\n",
    "sns.heatmap(confusion_matrix, annot = True, fmt = \"d\")\n",
    "plt.xlabel(\"predicted\")\n",
    "plt.ylabel(\"truth\")"
   ]
  },
  {
   "cell_type": "code",
   "execution_count": null,
   "id": "68c704df-b01c-4881-a5fd-a5c105ecbd4a",
   "metadata": {},
   "outputs": [],
   "source": []
  }
 ],
 "metadata": {
  "kernelspec": {
   "display_name": "Python 3 (ipykernel)",
   "language": "python",
   "name": "python3"
  },
  "language_info": {
   "codemirror_mode": {
    "name": "ipython",
    "version": 3
   },
   "file_extension": ".py",
   "mimetype": "text/x-python",
   "name": "python",
   "nbconvert_exporter": "python",
   "pygments_lexer": "ipython3",
   "version": "3.11.7"
  }
 },
 "nbformat": 4,
 "nbformat_minor": 5
}
