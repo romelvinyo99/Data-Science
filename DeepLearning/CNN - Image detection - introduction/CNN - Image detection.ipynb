{
 "cells": [
  {
   "cell_type": "code",
   "execution_count": 56,
   "id": "bfb45fda-3041-4cf5-9d87-0559850f214f",
   "metadata": {},
   "outputs": [],
   "source": [
    "import pandas as od\n",
    "import tensorflow as tf\n",
    "import numpy as np\n",
    "from tensorflow.keras import datasets, layers, models\n",
    "import matplotlib.pyplot as plt"
   ]
  },
  {
   "cell_type": "code",
   "execution_count": 57,
   "id": "a3fd1e30-3a05-44b5-bbd7-9b02e91c288c",
   "metadata": {},
   "outputs": [],
   "source": [
    "(X_train , y_train), (X_test, y_test) = datasets.cifar10.load_data()"
   ]
  },
  {
   "cell_type": "code",
   "execution_count": 58,
   "id": "c743eed9-5060-4775-a17a-f2b7b7b9ca46",
   "metadata": {},
   "outputs": [
    {
     "data": {
      "text/plain": [
       "(50000, 1)"
      ]
     },
     "execution_count": 58,
     "metadata": {},
     "output_type": "execute_result"
    }
   ],
   "source": [
    "y_train.shape"
   ]
  },
  {
   "cell_type": "code",
   "execution_count": 59,
   "id": "388ae568-9e94-4e60-aa9d-e4bf5cbe5bfb",
   "metadata": {},
   "outputs": [
    {
     "data": {
      "text/plain": [
       "array([6, 9, 9, 4, 1], dtype=uint8)"
      ]
     },
     "execution_count": 59,
     "metadata": {},
     "output_type": "execute_result"
    }
   ],
   "source": [
    "y_train = y_train.reshape(-1, )\n",
    "y_train[:5]"
   ]
  },
  {
   "cell_type": "code",
   "execution_count": 60,
   "id": "2b582b70-a244-4e9e-91fa-59e74ab90935",
   "metadata": {},
   "outputs": [
    {
     "data": {
      "text/plain": [
       "(50000, 32, 32, 3)"
      ]
     },
     "execution_count": 60,
     "metadata": {},
     "output_type": "execute_result"
    }
   ],
   "source": [
    "X_train.shape"
   ]
  },
  {
   "cell_type": "code",
   "execution_count": 61,
   "id": "242994e1-9aa8-466d-8138-40d5c9c4c0a6",
   "metadata": {},
   "outputs": [
    {
     "data": {
      "text/plain": [
       "(10000, 32, 32, 3)"
      ]
     },
     "execution_count": 61,
     "metadata": {},
     "output_type": "execute_result"
    }
   ],
   "source": [
    "X_test.shape"
   ]
  },
  {
   "cell_type": "code",
   "execution_count": 62,
   "id": "bb5a1d59-7eb1-4990-83bb-1ac090606023",
   "metadata": {},
   "outputs": [
    {
     "data": {
      "text/plain": [
       "array([[[ 59,  62,  63],\n",
       "        [ 43,  46,  45],\n",
       "        [ 50,  48,  43],\n",
       "        ...,\n",
       "        [158, 132, 108],\n",
       "        [152, 125, 102],\n",
       "        [148, 124, 103]],\n",
       "\n",
       "       [[ 16,  20,  20],\n",
       "        [  0,   0,   0],\n",
       "        [ 18,   8,   0],\n",
       "        ...,\n",
       "        [123,  88,  55],\n",
       "        [119,  83,  50],\n",
       "        [122,  87,  57]],\n",
       "\n",
       "       [[ 25,  24,  21],\n",
       "        [ 16,   7,   0],\n",
       "        [ 49,  27,   8],\n",
       "        ...,\n",
       "        [118,  84,  50],\n",
       "        [120,  84,  50],\n",
       "        [109,  73,  42]],\n",
       "\n",
       "       ...,\n",
       "\n",
       "       [[208, 170,  96],\n",
       "        [201, 153,  34],\n",
       "        [198, 161,  26],\n",
       "        ...,\n",
       "        [160, 133,  70],\n",
       "        [ 56,  31,   7],\n",
       "        [ 53,  34,  20]],\n",
       "\n",
       "       [[180, 139,  96],\n",
       "        [173, 123,  42],\n",
       "        [186, 144,  30],\n",
       "        ...,\n",
       "        [184, 148,  94],\n",
       "        [ 97,  62,  34],\n",
       "        [ 83,  53,  34]],\n",
       "\n",
       "       [[177, 144, 116],\n",
       "        [168, 129,  94],\n",
       "        [179, 142,  87],\n",
       "        ...,\n",
       "        [216, 184, 140],\n",
       "        [151, 118,  84],\n",
       "        [123,  92,  72]]], dtype=uint8)"
      ]
     },
     "execution_count": 62,
     "metadata": {},
     "output_type": "execute_result"
    }
   ],
   "source": [
    "# Not normalizing\n",
    "X_train[0]"
   ]
  },
  {
   "cell_type": "code",
   "execution_count": 63,
   "id": "61e1ad95-55ee-4cca-a0a4-bad34fb15a32",
   "metadata": {},
   "outputs": [],
   "source": [
    "classes = [\"airplane\", \"automobile\", \"bird\", \"cat\", \"deer\", \"dog\", \"frog\", \"horse\", \"ship\", \"truck\"]"
   ]
  },
  {
   "cell_type": "code",
   "execution_count": 64,
   "id": "40eea20d-4fd7-4894-b3a9-f9ef5ddb8b97",
   "metadata": {},
   "outputs": [],
   "source": [
    "def plotSample(X, y, index):\n",
    "    plt.figure(figsize = (15, 2))\n",
    "    plt.imshow(X[index])\n",
    "    plt.xlabel(classes[y[index]])"
   ]
  },
  {
   "cell_type": "code",
   "execution_count": 65,
   "id": "f04fd6da-c9b4-4fca-98ec-bccc125b0831",
   "metadata": {},
   "outputs": [
    {
     "data": {
      "image/png": "[encoded data removed]",
      "text/plain": [
       "<Figure size 1500x200 with 1 Axes>"
      ]
     },
     "metadata": {},
     "output_type": "display_data"
    }
   ],
   "source": [
    "plotSample(X_train, y_train, 0)"
   ]
  },
  {
   "cell_type": "code",
   "execution_count": 66,
   "id": "18df6092-139d-4906-a40f-b4017e90bfe6",
   "metadata": {},
   "outputs": [
    {
     "data": {
      "image/png": "[encoded data removed]",
      "text/plain": [
       "<Figure size 1500x200 with 1 Axes>"
      ]
     },
     "metadata": {},
     "output_type": "display_data"
    }
   ],
   "source": [
    "plotSample(X_train, y_train, 5)"
   ]
  },
  {
   "cell_type": "code",
   "execution_count": 67,
   "id": "9b19550d-d815-4f83-8312-1bc14ac07aa9",
   "metadata": {},
   "outputs": [],
   "source": [
    "# Normalizing data \n",
    "\n",
    "X_train = X_train / 255\n",
    "X_test = X_test / 255"
   ]
  },
  {
   "cell_type": "code",
   "execution_count": 68,
   "id": "7a86b37c-c3d6-46c4-b55f-5f43141e7afd",
   "metadata": {},
   "outputs": [
    {
     "name": "stdout",
     "output_type": "stream",
     "text": [
      "Epoch 1/5\n",
      "1563/1563 [==============================] - 134s 86ms/step - loss: 1.8107 - accuracy: 0.3559\n",
      "Epoch 2/5\n",
      "1563/1563 [==============================] - 132s 85ms/step - loss: 1.6238 - accuracy: 0.4287\n",
      "Epoch 3/5\n",
      "1563/1563 [==============================] - 130s 83ms/step - loss: 1.5396 - accuracy: 0.4582\n",
      "Epoch 4/5\n",
      "1563/1563 [==============================] - 133s 85ms/step - loss: 1.4806 - accuracy: 0.4764\n",
      "Epoch 5/5\n",
      "1563/1563 [==============================] - 133s 85ms/step - loss: 1.4307 - accuracy: 0.4935\n"
     ]
    },
    {
     "data": {
      "text/plain": [
       "<keras.src.callbacks.History at 0x20fc6f24490>"
      ]
     },
     "execution_count": 68,
     "metadata": {},
     "output_type": "execute_result"
    }
   ],
   "source": [
    "# Building a simple ANN\n",
    "\n",
    "ann = models.Sequential([\n",
    "    layers.Flatten(input_shape = (32, 32, 3)),\n",
    "    layers.Dense(3000, activation = \"relu\"),\n",
    "    layers.Dense(1000, activation = \"relu\"),\n",
    "    layers.Dense(10, activation = \"sigmoid\")\n",
    "])\n",
    "ann.compile(\n",
    "    optimizer = \"SGD\",\n",
    "    loss = \"sparse_categorical_crossentropy\",\n",
    "    metrics = [\"accuracy\"]\n",
    ")\n",
    "ann.fit(X_train, y_train, epochs = 5)"
   ]
  },
  {
   "cell_type": "code",
   "execution_count": 69,
   "id": "2bcac236-c103-4f8a-83b4-463c634f19b3",
   "metadata": {},
   "outputs": [
    {
     "name": "stdout",
     "output_type": "stream",
     "text": [
      "313/313 [==============================] - 5s 14ms/step - loss: 1.5125 - accuracy: 0.4603\n"
     ]
    },
    {
     "data": {
      "text/plain": [
       "[1.5125102996826172, 0.4602999985218048]"
      ]
     },
     "execution_count": 69,
     "metadata": {},
     "output_type": "execute_result"
    }
   ],
   "source": [
    "ann.evaluate(X_test, y_test)"
   ]
  },
  {
   "cell_type": "code",
   "execution_count": 70,
   "id": "b8893af7-3067-4386-aa37-c0e61019707e",
   "metadata": {},
   "outputs": [
    {
     "name": "stdout",
     "output_type": "stream",
     "text": [
      "313/313 [==============================] - 4s 12ms/step\n",
      "Classification report\n",
      "               precision    recall  f1-score   support\n",
      "\n",
      "           0       0.72      0.32      0.44      1000\n",
      "           1       0.49      0.76      0.59      1000\n",
      "           2       0.31      0.46      0.37      1000\n",
      "           3       0.41      0.23      0.29      1000\n",
      "           4       0.37      0.49      0.42      1000\n",
      "           5       0.53      0.22      0.31      1000\n",
      "           6       0.42      0.67      0.52      1000\n",
      "           7       0.73      0.34      0.46      1000\n",
      "           8       0.47      0.75      0.58      1000\n",
      "           9       0.60      0.38      0.47      1000\n",
      "\n",
      "    accuracy                           0.46     10000\n",
      "   macro avg       0.51      0.46      0.45     10000\n",
      "weighted avg       0.51      0.46      0.45     10000\n",
      "\n"
     ]
    }
   ],
   "source": [
    "from sklearn.metrics import confusion_matrix, classification_report\n",
    "import numpy as np\n",
    "\n",
    "y_pred = ann.predict(X_test)\n",
    "y_pred_classes = [np.argmax(element) for element in y_pred]\n",
    "\n",
    "print(\"Classification report\\n\", classification_report(y_test, y_pred_classes))"
   ]
  },
  {
   "cell_type": "code",
   "execution_count": 74,
   "id": "75cf2663-e161-4664-b7dd-b868dea9bcaf",
   "metadata": {},
   "outputs": [
    {
     "name": "stdout",
     "output_type": "stream",
     "text": [
      "Epoch 1/5\n",
      "1563/1563 [==============================] - 31s 19ms/step - loss: 1.4464 - accuracy: 0.4799\n",
      "Epoch 2/5\n",
      "1563/1563 [==============================] - 29s 19ms/step - loss: 1.0999 - accuracy: 0.6163\n",
      "Epoch 3/5\n",
      "1563/1563 [==============================] - 29s 19ms/step - loss: 0.9790 - accuracy: 0.6608\n",
      "Epoch 4/5\n",
      "1563/1563 [==============================] - 30s 19ms/step - loss: 0.9015 - accuracy: 0.6886\n",
      "Epoch 5/5\n",
      "1563/1563 [==============================] - 29s 19ms/step - loss: 0.8359 - accuracy: 0.7095\n"
     ]
    },
    {
     "data": {
      "text/plain": [
       "<keras.src.callbacks.History at 0x21047438710>"
      ]
     },
     "execution_count": 74,
     "metadata": {},
     "output_type": "execute_result"
    }
   ],
   "source": [
    "# Building a model using CNN\n",
    "\n",
    "# Building a simple ANN\n",
    "\n",
    "cnn = models.Sequential([\n",
    "    # cnn layers\n",
    "\n",
    "    #layer 1\n",
    "    layers.Conv2D(filters = 32, kernel_size = (3, 3), activation = \"relu\", input_shape = (32, 32, 3)),\n",
    "    layers.MaxPooling2D((2, 2)),\n",
    "    #layer 2\n",
    "    layers.Conv2D(filters = 64, kernel_size=(3, 3), activation = \"relu\"),\n",
    "    layers.MaxPooling2D((2, 2)),\n",
    "    # dense layers\n",
    "    layers.Flatten(),\n",
    "    layers.Dense(64, activation = \"relu\"),\n",
    "    layers.Dense(10, activation = \"softmax\")\n",
    "])\n",
    "cnn.compile(\n",
    "    optimizer = \"adam\",\n",
    "    loss = \"sparse_categorical_crossentropy\",\n",
    "    metrics = [\"accuracy\"]\n",
    ")\n",
    "cnn.fit(X_train, y_train, epochs = 5)"
   ]
  },
  {
   "cell_type": "code",
   "execution_count": 75,
   "id": "ce3f0621-0171-41ca-b9a4-7bf3cce00c07",
   "metadata": {},
   "outputs": [
    {
     "name": "stdout",
     "output_type": "stream",
     "text": [
      "313/313 [==============================] - 2s 5ms/step - loss: 0.9398 - accuracy: 0.6740\n"
     ]
    },
    {
     "data": {
      "text/plain": [
       "[0.9397500157356262, 0.6740000247955322]"
      ]
     },
     "execution_count": 75,
     "metadata": {},
     "output_type": "execute_result"
    }
   ],
   "source": [
    "cnn.evaluate(X_test, y_test)"
   ]
  },
  {
   "cell_type": "code",
   "execution_count": 82,
   "id": "47ad0fca-90c5-42c3-8367-bdd7b85c19c9",
   "metadata": {},
   "outputs": [],
   "source": [
    "y_test = y_test.reshape(-1, )"
   ]
  },
  {
   "cell_type": "code",
   "execution_count": 90,
   "id": "337d7288-fce7-40eb-a02e-ab34eb80de92",
   "metadata": {},
   "outputs": [
    {
     "data": {
      "image/png": "[encoded data removed]",
      "text/plain": [
       "<Figure size 1500x200 with 1 Axes>"
      ]
     },
     "metadata": {},
     "output_type": "display_data"
    }
   ],
   "source": [
    "plotSample(X_test, y_test, 30)"
   ]
  },
  {
   "cell_type": "code",
   "execution_count": 84,
   "id": "51d99a19-bca6-412c-8120-5b5c0d40f51c",
   "metadata": {},
   "outputs": [
    {
     "name": "stdout",
     "output_type": "stream",
     "text": [
      "313/313 [==============================] - 2s 5ms/step\n"
     ]
    },
    {
     "data": {
      "text/plain": [
       "array([[2.7550450e-03, 4.5533930e-03, 8.3565908e-03, 8.1283289e-01,\n",
       "        1.6891478e-03, 5.2732084e-02, 1.0975617e-01, 2.7385313e-04,\n",
       "        6.5931170e-03, 4.5771999e-04],\n",
       "       [2.1936098e-01, 3.9112464e-01, 1.5247928e-03, 6.6104549e-05,\n",
       "        3.0269445e-04, 1.6345747e-06, 2.3548678e-06, 9.2735054e-06,\n",
       "        3.8565284e-01, 1.9546992e-03],\n",
       "       [2.5440115e-01, 3.3881754e-01, 4.0797307e-03, 7.3777172e-03,\n",
       "        1.2701947e-02, 1.2367136e-03, 9.2227460e-04, 2.8104326e-03,\n",
       "        2.1286771e-01, 1.6478476e-01],\n",
       "       [7.8781205e-01, 4.3643720e-02, 3.3526853e-02, 2.0153604e-03,\n",
       "        8.1938431e-03, 2.3928991e-05, 3.4872020e-04, 7.1973226e-04,\n",
       "        1.2226268e-01, 1.4530965e-03],\n",
       "       [3.0053405e-05, 1.5752295e-04, 3.2440782e-02, 7.3848963e-03,\n",
       "        6.8792409e-01, 4.9671490e-04, 2.7152494e-01, 7.3253123e-06,\n",
       "        2.1467980e-05, 1.2307009e-05]], dtype=float32)"
      ]
     },
     "execution_count": 84,
     "metadata": {},
     "output_type": "execute_result"
    }
   ],
   "source": [
    "y_pred = cnn.predict(X_test)\n",
    "y_pred[:5]"
   ]
  },
  {
   "cell_type": "code",
   "execution_count": 86,
   "id": "6a5ddacd-f8e0-4d42-9691-dbb2ebae867e",
   "metadata": {},
   "outputs": [
    {
     "data": {
      "text/plain": [
       "[3, 1, 1, 0, 4]"
      ]
     },
     "execution_count": 86,
     "metadata": {},
     "output_type": "execute_result"
    }
   ],
   "source": [
    "y_classes = [np.argmax(element) for element in y_pred]\n",
    "y_classes[:5]"
   ]
  },
  {
   "cell_type": "code",
   "execution_count": 87,
   "id": "10a7fdb8-b13d-4b40-b993-7ea285854cd6",
   "metadata": {},
   "outputs": [
    {
     "data": {
      "text/plain": [
       "array([3, 8, 8, 0, 6], dtype=uint8)"
      ]
     },
     "execution_count": 87,
     "metadata": {},
     "output_type": "execute_result"
    }
   ],
   "source": [
    "y_test[:5]"
   ]
  },
  {
   "cell_type": "code",
   "execution_count": 89,
   "id": "a7af25dd-7f65-4b24-90c4-e54f96d83712",
   "metadata": {},
   "outputs": [
    {
     "data": {
      "text/plain": [
       "'frog'"
      ]
     },
     "execution_count": 89,
     "metadata": {},
     "output_type": "execute_result"
    }
   ],
   "source": [
    "classes[y_classes[30]]"
   ]
  },
  {
   "cell_type": "code",
   "execution_count": 92,
   "id": "147c28e4-a40a-48a0-b002-1e230bbc0b81",
   "metadata": {},
   "outputs": [
    {
     "name": "stdout",
     "output_type": "stream",
     "text": [
      "              precision    recall  f1-score   support\n",
      "\n",
      "           0       0.62      0.81      0.70      1000\n",
      "           1       0.74      0.84      0.79      1000\n",
      "           2       0.53      0.60      0.56      1000\n",
      "           3       0.52      0.46      0.48      1000\n",
      "           4       0.58      0.70      0.64      1000\n",
      "           5       0.66      0.47      0.55      1000\n",
      "           6       0.70      0.81      0.75      1000\n",
      "           7       0.80      0.69      0.74      1000\n",
      "           8       0.88      0.65      0.75      1000\n",
      "           9       0.81      0.72      0.76      1000\n",
      "\n",
      "    accuracy                           0.67     10000\n",
      "   macro avg       0.68      0.67      0.67     10000\n",
      "weighted avg       0.68      0.67      0.67     10000\n",
      "\n"
     ]
    }
   ],
   "source": [
    "print(classification_report(y_test, y_classes))"
   ]
  },
  {
   "cell_type": "code",
   "execution_count": null,
   "id": "d29bdda2-8f28-42a0-83d3-93a3a67b6296",
   "metadata": {},
   "outputs": [],
   "source": []
  }
 ],
 "metadata": {
  "kernelspec": {
   "display_name": "Python 3 (ipykernel)",
   "language": "python",
   "name": "python3"
  },
  "language_info": {
   "codemirror_mode": {
    "name": "ipython",
    "version": 3
   },
   "file_extension": ".py",
   "mimetype": "text/x-python",
   "name": "python",
   "nbconvert_exporter": "python",
   "pygments_lexer": "ipython3",
   "version": "3.11.7"
  }
 },
 "nbformat": 4,
 "nbformat_minor": 5
}
