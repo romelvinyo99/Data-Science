{
 "cells": [
  {
   "cell_type": "code",
   "execution_count": 29,
   "id": "04fee72d-bd39-4636-af69-64ed888209a2",
   "metadata": {},
   "outputs": [
    {
     "data": {
      "text/html": [
       "<div>\n",
       "<style scoped>\n",
       "    .dataframe tbody tr th:only-of-type {\n",
       "        vertical-align: middle;\n",
       "    }\n",
       "\n",
       "    .dataframe tbody tr th {\n",
       "        vertical-align: top;\n",
       "    }\n",
       "\n",
       "    .dataframe thead th {\n",
       "        text-align: right;\n",
       "    }\n",
       "</style>\n",
       "<table border=\"1\" class=\"dataframe\">\n",
       "  <thead>\n",
       "    <tr style=\"text-align: right;\">\n",
       "      <th></th>\n",
       "      <th>area</th>\n",
       "      <th>bedrooms</th>\n",
       "      <th>price</th>\n",
       "    </tr>\n",
       "  </thead>\n",
       "  <tbody>\n",
       "    <tr>\n",
       "      <th>19</th>\n",
       "      <td>800</td>\n",
       "      <td>1</td>\n",
       "      <td>32.0</td>\n",
       "    </tr>\n",
       "    <tr>\n",
       "      <th>10</th>\n",
       "      <td>1800</td>\n",
       "      <td>3</td>\n",
       "      <td>82.0</td>\n",
       "    </tr>\n",
       "    <tr>\n",
       "      <th>15</th>\n",
       "      <td>1175</td>\n",
       "      <td>2</td>\n",
       "      <td>42.0</td>\n",
       "    </tr>\n",
       "    <tr>\n",
       "      <th>17</th>\n",
       "      <td>1540</td>\n",
       "      <td>3</td>\n",
       "      <td>60.0</td>\n",
       "    </tr>\n",
       "  </tbody>\n",
       "</table>\n",
       "</div>"
      ],
      "text/plain": [
       "    area  bedrooms  price\n",
       "19   800         1   32.0\n",
       "10  1800         3   82.0\n",
       "15  1175         2   42.0\n",
       "17  1540         3   60.0"
      ]
     },
     "execution_count": 29,
     "metadata": {},
     "output_type": "execute_result"
    }
   ],
   "source": [
    "import pandas as pd\n",
    "import  numpy as np\n",
    "from sklearn.preprocessing import MinMaxScaler\n",
    "df = pd.read_csv(\"homeprices_banglore.csv\")\n",
    "df.sample(4)"
   ]
  },
  {
   "cell_type": "code",
   "execution_count": 30,
   "id": "90f47f59-3e5f-4ad3-a8bd-434f3497a41e",
   "metadata": {},
   "outputs": [
    {
     "data": {
      "text/plain": [
       "(20, 3)"
      ]
     },
     "execution_count": 30,
     "metadata": {},
     "output_type": "execute_result"
    }
   ],
   "source": [
    "df.shape"
   ]
  },
  {
   "cell_type": "code",
   "execution_count": 31,
   "id": "3f486b78-34f6-46ea-b01b-202b405dfa36",
   "metadata": {},
   "outputs": [],
   "source": [
    "X = df.drop(columns = [\"price\"], axis = 1)\n",
    "y = df[\"price\"]"
   ]
  },
  {
   "cell_type": "code",
   "execution_count": 42,
   "id": "3606e25d-bbe0-44ad-af62-9a2d4ccad764",
   "metadata": {},
   "outputs": [
    {
     "data": {
      "text/plain": [
       "(20, 2)"
      ]
     },
     "execution_count": 42,
     "metadata": {},
     "output_type": "execute_result"
    }
   ],
   "source": [
    "X.shape"
   ]
  },
  {
   "cell_type": "code",
   "execution_count": 32,
   "id": "b09ed47f-165b-4b88-9112-00d1ed4b2c08",
   "metadata": {},
   "outputs": [
    {
     "data": {
      "text/plain": [
       "array([[0.08827586, 0.25      ],\n",
       "       [0.62068966, 0.75      ],\n",
       "       [0.22068966, 0.5       ],\n",
       "       [0.24862069, 0.5       ],\n",
       "       [0.13793103, 0.25      ],\n",
       "       [0.12758621, 0.25      ],\n",
       "       [0.6662069 , 0.75      ],\n",
       "       [0.86206897, 0.75      ],\n",
       "       [0.17586207, 0.5       ],\n",
       "       [1.        , 1.        ],\n",
       "       [0.34482759, 0.5       ],\n",
       "       [0.68448276, 0.75      ],\n",
       "       [0.06896552, 0.25      ],\n",
       "       [0.10344828, 0.25      ],\n",
       "       [0.5       , 0.5       ],\n",
       "       [0.12931034, 0.25      ],\n",
       "       [0.13103448, 0.5       ],\n",
       "       [0.25517241, 0.5       ],\n",
       "       [0.67931034, 0.5       ],\n",
       "       [0.        , 0.        ]])"
      ]
     },
     "execution_count": 32,
     "metadata": {},
     "output_type": "execute_result"
    }
   ],
   "source": [
    "scaler_x = MinMaxScaler()\n",
    "X_scaled = scaler_x.fit_transform(X)\n",
    "X_scaled"
   ]
  },
  {
   "cell_type": "code",
   "execution_count": 33,
   "id": "931106f2-d247-4eef-9938-8d0d498ca5b1",
   "metadata": {},
   "outputs": [
    {
     "data": {
      "text/plain": [
       "(20, 2)"
      ]
     },
     "execution_count": 33,
     "metadata": {},
     "output_type": "execute_result"
    }
   ],
   "source": [
    "x_scaled.shape"
   ]
  },
  {
   "cell_type": "code",
   "execution_count": 34,
   "id": "0a735321-34e1-459a-a3f9-53a6e8ab027d",
   "metadata": {},
   "outputs": [
    {
     "data": {
      "text/plain": [
       "(20, 1)"
      ]
     },
     "execution_count": 34,
     "metadata": {},
     "output_type": "execute_result"
    }
   ],
   "source": [
    "scaler_y = MinMaxScaler()\n",
    "y_scaled = scaler_y.fit_transform(y.values.reshape(df.shape[0], 1))\n",
    "y_scaled.shape"
   ]
  },
  {
   "cell_type": "code",
   "execution_count": 35,
   "id": "d43e0802-42e7-4b2a-b149-376cbcdcd926",
   "metadata": {},
   "outputs": [
    {
     "data": {
      "text/plain": [
       "(array([0.70712464, 0.67456527]), -0.23034857438407427, 0.0068641890429808105)"
      ]
     },
     "execution_count": 35,
     "metadata": {},
     "output_type": "execute_result"
    }
   ],
   "source": [
    "def batch_gradient_descent(X, y_true, epochs, learning_rate = 0.01):\n",
    "    number_of_features = X.shape[1]\n",
    "    w = np.ones(shape = (number_of_features))\n",
    "    b = 0\n",
    "    n = X.shape[0]\n",
    "    cost_list = []\n",
    "    epoch_list = []\n",
    "    for epoch in range(epochs):\n",
    "        y_predicted = np.dot(w, X_scaled.T) + b\n",
    "        wd = (-2/n) * (X.T.dot(y_true - y_predicted))\n",
    "        bd = (-2/n) * np.sum(y_true - y_predicted)\n",
    "        w = w - learning_rate * wd\n",
    "        b = b - learning_rate * bd\n",
    "        cost = np.mean(np.square(y_true - y_predicted))\n",
    "        if epoch % 10 == 0:\n",
    "            cost_list.append(cost)\n",
    "            epoch_list.append(epoch)\n",
    "    return w, b, cost, cost_list, epoch_list        \n",
    "\n",
    "\n",
    "w, b, cost, cost_list, epoch_list = batch_gradient_descent(X_scaled, y_scaled.reshape(y_scaled.shape[0], ), 500)\n",
    "w, b, cost"
   ]
  },
  {
   "cell_type": "code",
   "execution_count": 36,
   "id": "981cc60e-4d00-4f9a-8548-2a139de3726e",
   "metadata": {},
   "outputs": [
    {
     "data": {
      "text/plain": [
       "Text(0, 0.5, 'cost')"
      ]
     },
     "execution_count": 36,
     "metadata": {},
     "output_type": "execute_result"
    },
    {
     "data": {
      "image/png": "[encoded data removed]",
      "text/plain": [
       "<Figure size 640x480 with 1 Axes>"
      ]
     },
     "metadata": {},
     "output_type": "display_data"
    }
   ],
   "source": [
    "import matplotlib.pyplot as plt\n",
    "\n",
    "plt.plot(epoch_list, cost_list)\n",
    "plt.xlabel(\"epochs\")\n",
    "plt.ylabel(\"cost\")"
   ]
  },
  {
   "cell_type": "code",
   "execution_count": 41,
   "id": "c4224453-df45-4a75-b0e7-04f864fb61fe",
   "metadata": {},
   "outputs": [
    {
     "name": "stderr",
     "output_type": "stream",
     "text": [
      "C:\\Users\\nyasa\\Downloads\\ANACONDA\\Lib\\site-packages\\sklearn\\base.py:439: UserWarning: X does not have valid feature names, but MinMaxScaler was fitted with feature names\n",
      "  warnings.warn(\n"
     ]
    },
    {
     "data": {
      "text/plain": [
       "array([[131.75148088]])"
      ]
     },
     "execution_count": 41,
     "metadata": {},
     "output_type": "execute_result"
    }
   ],
   "source": [
    "def predict(area, bedrooms, w, b):\n",
    "    scaled_x = scaler_X.transform([[area, bedrooms]])\n",
    "    scaled_price = w[0] * scaled_x[0, 0] + w[0] * scaled_x[0, 1] + b\n",
    "    price = scaler_y.inverse_transform([[scaled_price]])\n",
    "    return price\n",
    "predict(2600, 4, w, b)    "
   ]
  },
  {
   "cell_type": "code",
   "execution_count": 54,
   "id": "d8a20566-0ef7-4118-bada-e871c062db02",
   "metadata": {},
   "outputs": [
    {
     "data": {
      "text/plain": [
       "(array([0.71041515, 0.67681081]),\n",
       " -0.2369957928431058,\n",
       " 0.004008277224992979,\n",
       " [0.11098343388969625,\n",
       "  0.3350509902289644,\n",
       "  0.10047689490999051,\n",
       "  0.07130902162437541,\n",
       "  0.011840830022194779,\n",
       "  0.15734383993782308,\n",
       "  0.10687122250881181,\n",
       "  0.007596815835548908,\n",
       "  0.013480476689229474,\n",
       "  1.2135378815373987e-05,\n",
       "  0.06104925263049577,\n",
       "  0.0004762456816174673,\n",
       "  0.029012391154202254,\n",
       "  0.07519953874411203,\n",
       "  0.020460652999913637,\n",
       "  0.08013567675155546,\n",
       "  0.0042385608352678685,\n",
       "  0.004059010134851468,\n",
       "  0.012123186134531297,\n",
       "  0.007735254715293948,\n",
       "  0.017572251988414115,\n",
       "  0.0074886087144615055,\n",
       "  0.0021045350438506595,\n",
       "  0.009846412104776202,\n",
       "  1.1485624887448218e-05,\n",
       "  0.005460429919344831,\n",
       "  5.461802878017248e-06,\n",
       "  0.00041638561252235745,\n",
       "  0.001614983563900895,\n",
       "  0.007840450722029926,\n",
       "  0.001690854280964316,\n",
       "  0.008533925134449932,\n",
       "  0.007232464158338861,\n",
       "  0.006930189145166379,\n",
       "  0.06449784019824122,\n",
       "  0.001041212684225931,\n",
       "  0.007095814058437659,\n",
       "  0.002855304854589635,\n",
       "  0.005669670603340252,\n",
       "  0.01939116895105717,\n",
       "  0.011210869945137815,\n",
       "  0.019318689065725838,\n",
       "  0.0058356283003811165,\n",
       "  0.008256739199430424,\n",
       "  0.00047590408887136147,\n",
       "  0.008983429423759622,\n",
       "  0.008976560869415978,\n",
       "  0.018517550553316813,\n",
       "  0.018548005609345608,\n",
       "  0.008239305522574264,\n",
       "  0.0010515811303890897,\n",
       "  0.005482439345429569,\n",
       "  0.0017855271573312796,\n",
       "  0.00014090964224959003,\n",
       "  0.005380513926011271,\n",
       "  0.006926993764662523,\n",
       "  0.07573012284720815,\n",
       "  0.04240042355257227,\n",
       "  0.006462758210936453,\n",
       "  0.01700811526891042,\n",
       "  0.002160077478617937,\n",
       "  0.0043838716621655525,\n",
       "  0.0014773495566962594,\n",
       "  0.0023735517082626276,\n",
       "  0.00037334476185213813,\n",
       "  0.0021535590495248822,\n",
       "  2.331324733250662e-05,\n",
       "  0.014658197668130101,\n",
       "  0.002051887665736652,\n",
       "  1.19717180564513e-05,\n",
       "  0.0012788078028897335,\n",
       "  0.00561906859361068,\n",
       "  0.03510489824763776,\n",
       "  0.00042224346217093937,\n",
       "  2.7732939779945213e-07,\n",
       "  0.0009847430098964174,\n",
       "  0.014370150958373063,\n",
       "  0.031692103159444776,\n",
       "  0.0013131712647960262,\n",
       "  0.0008557474241731285,\n",
       "  0.005084345366432546,\n",
       "  2.945439209227983e-05,\n",
       "  0.005665111860519352,\n",
       "  0.0051199158328240285,\n",
       "  0.005757160879258767,\n",
       "  0.004749813005680309,\n",
       "  0.0004938661646779275,\n",
       "  0.027665488479335185,\n",
       "  0.00030368386924356245,\n",
       "  0.004564655016189787,\n",
       "  0.005995976758409175,\n",
       "  0.004554100100681905,\n",
       "  0.003696016115986549,\n",
       "  0.001641089486784671,\n",
       "  0.003938518943236983,\n",
       "  0.0034263726357470826,\n",
       "  0.004635709358755136,\n",
       "  0.001580039038888848,\n",
       "  0.005821486936251258,\n",
       "  0.00031978097675737884],\n",
       " [0,\n",
       "  100,\n",
       "  200,\n",
       "  300,\n",
       "  400,\n",
       "  500,\n",
       "  600,\n",
       "  700,\n",
       "  800,\n",
       "  900,\n",
       "  1000,\n",
       "  1100,\n",
       "  1200,\n",
       "  1300,\n",
       "  1400,\n",
       "  1500,\n",
       "  1600,\n",
       "  1700,\n",
       "  1800,\n",
       "  1900,\n",
       "  2000,\n",
       "  2100,\n",
       "  2200,\n",
       "  2300,\n",
       "  2400,\n",
       "  2500,\n",
       "  2600,\n",
       "  2700,\n",
       "  2800,\n",
       "  2900,\n",
       "  3000,\n",
       "  3100,\n",
       "  3200,\n",
       "  3300,\n",
       "  3400,\n",
       "  3500,\n",
       "  3600,\n",
       "  3700,\n",
       "  3800,\n",
       "  3900,\n",
       "  4000,\n",
       "  4100,\n",
       "  4200,\n",
       "  4300,\n",
       "  4400,\n",
       "  4500,\n",
       "  4600,\n",
       "  4700,\n",
       "  4800,\n",
       "  4900,\n",
       "  5000,\n",
       "  5100,\n",
       "  5200,\n",
       "  5300,\n",
       "  5400,\n",
       "  5500,\n",
       "  5600,\n",
       "  5700,\n",
       "  5800,\n",
       "  5900,\n",
       "  6000,\n",
       "  6100,\n",
       "  6200,\n",
       "  6300,\n",
       "  6400,\n",
       "  6500,\n",
       "  6600,\n",
       "  6700,\n",
       "  6800,\n",
       "  6900,\n",
       "  7000,\n",
       "  7100,\n",
       "  7200,\n",
       "  7300,\n",
       "  7400,\n",
       "  7500,\n",
       "  7600,\n",
       "  7700,\n",
       "  7800,\n",
       "  7900,\n",
       "  8000,\n",
       "  8100,\n",
       "  8200,\n",
       "  8300,\n",
       "  8400,\n",
       "  8500,\n",
       "  8600,\n",
       "  8700,\n",
       "  8800,\n",
       "  8900,\n",
       "  9000,\n",
       "  9100,\n",
       "  9200,\n",
       "  9300,\n",
       "  9400,\n",
       "  9500,\n",
       "  9600,\n",
       "  9700,\n",
       "  9800,\n",
       "  9900])"
      ]
     },
     "execution_count": 54,
     "metadata": {},
     "output_type": "execute_result"
    }
   ],
   "source": [
    "import random\n",
    "def stochastic_gradient_descent(X, y_true, epochs, learning_rate=0.01):\n",
    "    number_of_features = X.shape[1]\n",
    "    w = np.ones(shape = (number_of_features))\n",
    "    b = 0\n",
    "    n = X.shape[0]\n",
    "    cost_list = []\n",
    "    epoch_list = []\n",
    "    for epoch in range(epochs):\n",
    "        random_index = random.randint(0, n - 1)\n",
    "        sample_X = X[random_index]\n",
    "        sample_y = y_true[random_index]\n",
    "        y_predicted = np.dot(w, sample_X.T) + b\n",
    "        wd = (-2/n) * (sample_X.T.dot(sample_y - y_predicted))\n",
    "        bd = (-2/n) * np.sum(sample_y - y_predicted)\n",
    "        w = w - learning_rate * wd\n",
    "        b = b - learning_rate * bd\n",
    "        cost = np.square(sample_y - y_predicted)\n",
    "        if epoch % 100 == 0:\n",
    "            cost_list.append(cost)\n",
    "            epoch_list.append(epoch)\n",
    "    return w, b, cost, cost_list, epoch_list        \n",
    "        \n",
    "w, b, cost, cost_list, epoch_list = stochastic_gradient_descent(X_scaled, y_scaled.reshape(y_scaled.shape[0], ), 10000)        \n",
    "w, b, cost, cost_list, epoch_list "
   ]
  },
  {
   "cell_type": "code",
   "execution_count": 55,
   "id": "49b088fb-dc27-4983-9833-ed148f6fc74f",
   "metadata": {},
   "outputs": [
    {
     "data": {
      "text/plain": [
       "Text(0, 0.5, 'cost')"
      ]
     },
     "execution_count": 55,
     "metadata": {},
     "output_type": "execute_result"
    },
    {
     "data": {
      "image/png": "[encoded data removed]",
      "text/plain": [
       "<Figure size 640x480 with 1 Axes>"
      ]
     },
     "metadata": {},
     "output_type": "display_data"
    }
   ],
   "source": [
    "import matplotlib.pyplot as plt\n",
    "\n",
    "plt.plot(epoch_list, cost_list)\n",
    "plt.xlabel(\"epochs\")\n",
    "plt.ylabel(\"cost\")"
   ]
  },
  {
   "cell_type": "code",
   "execution_count": null,
   "id": "125d245d-d067-43cd-a524-0ca8377c3786",
   "metadata": {},
   "outputs": [],
   "source": []
  }
 ],
 "metadata": {
  "kernelspec": {
   "display_name": "Python 3 (ipykernel)",
   "language": "python",
   "name": "python3"
  },
  "language_info": {
   "codemirror_mode": {
    "name": "ipython",
    "version": 3
   },
   "file_extension": ".py",
   "mimetype": "text/x-python",
   "name": "python",
   "nbconvert_exporter": "python",
   "pygments_lexer": "ipython3",
   "version": "3.11.7"
  }
 },
 "nbformat": 4,
 "nbformat_minor": 5
}
