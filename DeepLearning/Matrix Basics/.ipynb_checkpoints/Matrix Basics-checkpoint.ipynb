{
 "cells": [
  {
   "cell_type": "code",
   "execution_count": 8,
   "id": "779eab45-4b95-4a39-9895-56c2c18c4ce7",
   "metadata": {},
   "outputs": [],
   "source": [
    "import numpy as np"
   ]
  },
  {
   "cell_type": "code",
   "execution_count": 19,
   "id": "3ac8a6b2-cd0c-4d42-8e4d-84a7eb42375d",
   "metadata": {},
   "outputs": [],
   "source": [
    "revenue = np.array([[180, 200, 220], [24, 36, 40], [12, 18, 20]])\n",
    "expense = np.array([[80, 90, 100], [10, 16, 20], [8, 10, 10]])\n",
    "profit  = revenue - expense"
   ]
  },
  {
   "cell_type": "code",
   "execution_count": 20,
   "id": "d124641d-5115-4d4f-83df-9c06f8feb5d1",
   "metadata": {},
   "outputs": [
    {
     "data": {
      "text/plain": [
       "array([[100, 110, 120],\n",
       "       [ 14,  20,  20],\n",
       "       [  4,   8,  10]])"
      ]
     },
     "execution_count": 20,
     "metadata": {},
     "output_type": "execute_result"
    }
   ],
   "source": [
    "profit"
   ]
  },
  {
   "cell_type": "code",
   "execution_count": 21,
   "id": "f15e8fc1-53c2-4e69-aec1-fd1518d37a2f",
   "metadata": {},
   "outputs": [
    {
     "data": {
      "text/plain": [
       "(array([[30000, 16000, 60000],\n",
       "        [ 5000,  4000, 18000],\n",
       "        [ 2000,  2000,  8400]]),\n",
       " array([34400, 50000, 64400]))"
      ]
     },
     "execution_count": 21,
     "metadata": {},
     "output_type": "execute_result"
    }
   ],
   "source": [
    "pricePerUnit = np.array([1000, 400, 1200])\n",
    "units = np.array([[30, 40, 50], [5, 10, 15], [2, 5, 7]])\n",
    "#for each individual company - type casting\n",
    "x = pricePerUnit * units\n",
    "#for combined brands - dot product\n",
    "y = np.dot(pricePerUnit, units)\n",
    "\n",
    "x, y"
   ]
  },
  {
   "cell_type": "raw",
   "id": "0dd161a9-76dc-4454-940b-5bacfe5a7626",
   "metadata": {},
   "source": [
    "Assignment"
   ]
  },
  {
   "cell_type": "code",
   "execution_count": 27,
   "id": "f9355a87-01e8-4756-9dac-ffa77ff6df3d",
   "metadata": {},
   "outputs": [
    {
     "data": {
      "text/plain": [
       "(array([-1289607552,  1720130816, -2109738368,  1945130816]),\n",
       " array([-1289607552,  1720130816, -2109738368,  1945130816]))"
      ]
     },
     "execution_count": 27,
     "metadata": {},
     "output_type": "execute_result"
    }
   ],
   "source": [
    "#usd - rupee conversion\n",
    "\n",
    "#revenue in usd\n",
    "revenue_usd = np.array([[200, 220, 250], [68, 79, 105], [110, 140, 180], [80, 85, 90]]) * 1000000\n",
    "#revenue in ruppees\n",
    "revenue_rpe = revenue_usd * 75\n",
    "\n",
    "#dot function\n",
    "total_revenue_per_year = np.dot(revenue_usd, np.array([75, 75, 75]))\n",
    "#sum function\n",
    "total_revenue_per_year_rupee = np.sum(revenue_rpe, axis = 1)\n",
    "\n",
    "total_revenue_per_year_rupee, total_revenue_per_year"
   ]
  },
  {
   "cell_type": "code",
   "execution_count": null,
   "id": "7a1893d6-5b54-44d3-be1c-a9138462e582",
   "metadata": {},
   "outputs": [],
   "source": []
  }
 ],
 "metadata": {
  "kernelspec": {
   "display_name": "Python 3 (ipykernel)",
   "language": "python",
   "name": "python3"
  },
  "language_info": {
   "codemirror_mode": {
    "name": "ipython",
    "version": 3
   },
   "file_extension": ".py",
   "mimetype": "text/x-python",
   "name": "python",
   "nbconvert_exporter": "python",
   "pygments_lexer": "ipython3",
   "version": "3.11.7"
  }
 },
 "nbformat": 4,
 "nbformat_minor": 5
}
