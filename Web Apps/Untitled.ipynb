{
 "cells": [
  {
   "cell_type": "code",
   "execution_count": null,
   "id": "96ce8e82-51b9-4290-969e-2393fbf41c59",
   "metadata": {},
   "outputs": [],
   "source": [
    "import yfinance as yf\n",
    "import streamlit as st\n",
    "import pandas as pd\n",
    "\n",
    "# Creating a ticker symbol\n",
    "tickerSymbol = \"GOOGL\"\n",
    "# Data importation\n",
    "tickerData = yf.Ticker(tickerSymbol)\n",
    "tickerDf = tickerData.history(period=\"1d\", start=\"2010-5-31\", end=\"2024-5-31\")\n",
    "\n",
    "# Checking if there is data\n",
    "if tickerDf is not None:\n",
    "    # printing the data\n",
    "    st.write(\"Google Stock Price App\")\n",
    "    st.write(tickerDf)\n",
    "    # Drawing the line chart\n",
    "    st.write(\"Close Line Graph\")\n",
    "    st.line_chart(tickerDf[\"Close\"])\n",
    "    st.subheader(\"Volume Line graph\")\n",
    "    st.line_chart(tickerDf[\"Volume\"])\n"
   ]
  },
  {
   "cell_type": "code",
   "execution_count": null,
   "id": "651408a2-bf00-4f5a-8113-099c5a962139",
   "metadata": {},
   "outputs": [],
   "source": []
  }
 ],
 "metadata": {
  "kernelspec": {
   "display_name": "Python 3 (ipykernel)",
   "language": "python",
   "name": "python3"
  },
  "language_info": {
   "codemirror_mode": {
    "name": "ipython",
    "version": 3
   },
   "file_extension": ".py",
   "mimetype": "text/x-python",
   "name": "python",
   "nbconvert_exporter": "python",
   "pygments_lexer": "ipython3",
   "version": "3.11.7"
  }
 },
 "nbformat": 4,
 "nbformat_minor": 5
}
