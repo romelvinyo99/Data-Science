{
 "cells": [
  {
   "cell_type": "code",
   "execution_count": 19,
   "id": "9e31b2ae-7548-4e06-a0bf-afa076155e27",
   "metadata": {},
   "outputs": [],
   "source": [
    "#importations\n",
    "import pandas as pd\n",
    "from sklearn.datasets import load_wine\n",
    "from sklearn.naive_bayes import GaussianNB, MultinomialNB, BernoulliNB\n",
    "from sklearn.model_selection import cross_val_score, KFold, train_test_split"
   ]
  },
  {
   "cell_type": "code",
   "execution_count": 17,
   "id": "414994d7-e639-43c1-bca0-ac150fcc3119",
   "metadata": {},
   "outputs": [
    {
     "data": {
      "text/plain": [
       "['DESCR', 'data', 'feature_names', 'frame', 'target', 'target_names']"
      ]
     },
     "execution_count": 17,
     "metadata": {},
     "output_type": "execute_result"
    }
   ],
   "source": [
    "#loading dataset\n",
    "wine = load_wine()\n",
    "dir(wine)"
   ]
  },
  {
   "cell_type": "code",
   "execution_count": 24,
   "id": "d8aa1d3c-c6c0-4b02-9a4c-ab49dda03989",
   "metadata": {},
   "outputs": [
    {
     "data": {
      "text/plain": [
       "([1.0,\n",
       "  0.9444444444444444,\n",
       "  0.8888888888888888,\n",
       "  0.8333333333333334,\n",
       "  0.9444444444444444,\n",
       "  1.0,\n",
       "  1.0,\n",
       "  1.0,\n",
       "  1.0,\n",
       "  1.0],\n",
       " [0.9444444444444444,\n",
       "  0.0,\n",
       "  0.7777777777777778,\n",
       "  0.0,\n",
       "  0.8333333333333334,\n",
       "  0.0,\n",
       "  0.6666666666666666,\n",
       "  0.7222222222222222,\n",
       "  0.6111111111111112,\n",
       "  0.0,\n",
       "  0.8888888888888888,\n",
       "  0.0,\n",
       "  1.0,\n",
       "  0.0,\n",
       "  0.7222222222222222,\n",
       "  0.2222222222222222,\n",
       "  0.8235294117647058,\n",
       "  0.0,\n",
       "  1.0,\n",
       "  0.0])"
      ]
     },
     "execution_count": 24,
     "metadata": {},
     "output_type": "execute_result"
    }
   ],
   "source": [
    "def get_score(model, X_train, X_test, y_train, y_test):\n",
    "    model.fit(X_train, y_train)\n",
    "    return model.score(X_test, y_test)\n",
    "\n",
    "score_gs = []\n",
    "score_mn = []\n",
    "\n",
    "kf = KFold(n_splits = 10)\n",
    "\n",
    "for train_index, test_index in kf.split(wine.data):\n",
    "    X_train, X_test, y_train, y_test = wine.data[train_index], wine.data[test_index], wine.target[train_index], wine.target[test_index]\n",
    "    score_gs.append(get_score(GaussianNB(), X_train, X_test, y_train, y_test))\n",
    "    score_mn.append(get_score(MultinomialNB(), X_train, X_test, y_train, y_test))\n",
    "    score_mn.append(get_score(BernoulliNB(), X_train, X_test, y_train, y_test))\n",
    "    \n",
    "    \n",
    "    \n",
    "score_gs, score_mn"
   ]
  },
  {
   "cell_type": "code",
   "execution_count": 20,
   "id": "23e0cee8-b96c-45f2-90ed-77fd041a0d4f",
   "metadata": {},
   "outputs": [
    {
     "data": {
      "text/plain": [
       "array([0.94444444, 0.97222222, 0.97222222, 0.94285714, 1.        ])"
      ]
     },
     "execution_count": 20,
     "metadata": {},
     "output_type": "execute_result"
    }
   ],
   "source": [
    "cross_val_score(GaussianNB(), wine.data, wine.target)"
   ]
  },
  {
   "cell_type": "code",
   "execution_count": 21,
   "id": "9780a735-c839-4cdf-aff9-3c5578414846",
   "metadata": {},
   "outputs": [
    {
     "data": {
      "text/plain": [
       "array([0.75      , 0.75      , 0.80555556, 0.91428571, 1.        ])"
      ]
     },
     "execution_count": 21,
     "metadata": {},
     "output_type": "execute_result"
    }
   ],
   "source": [
    "cross_val_score(MultinomialNB(), wine.data, wine.target)"
   ]
  },
  {
   "cell_type": "code",
   "execution_count": 22,
   "id": "1d464f13-c9b5-4130-8316-05216f49d416",
   "metadata": {},
   "outputs": [
    {
     "data": {
      "text/plain": [
       "array([0.38888889, 0.38888889, 0.38888889, 0.4       , 0.42857143])"
      ]
     },
     "execution_count": 22,
     "metadata": {},
     "output_type": "execute_result"
    }
   ],
   "source": [
    "cross_val_score(BernoulliNB(), wine.data, wine.target)"
   ]
  }
 ],
 "metadata": {
  "kernelspec": {
   "display_name": "Python 3 (ipykernel)",
   "language": "python",
   "name": "python3"
  },
  "language_info": {
   "codemirror_mode": {
    "name": "ipython",
    "version": 3
   },
   "file_extension": ".py",
   "mimetype": "text/x-python",
   "name": "python",
   "nbconvert_exporter": "python",
   "pygments_lexer": "ipython3",
   "version": "3.11.7"
  }
 },
 "nbformat": 4,
 "nbformat_minor": 5
}
