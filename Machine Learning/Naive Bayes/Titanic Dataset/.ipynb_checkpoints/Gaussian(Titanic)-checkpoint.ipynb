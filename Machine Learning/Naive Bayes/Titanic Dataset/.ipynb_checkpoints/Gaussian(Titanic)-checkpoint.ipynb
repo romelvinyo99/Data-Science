{
 "cells": [
  {
   "cell_type": "code",
   "execution_count": null,
   "id": "77ca6c85-f997-455b-bfe5-57f26b345cf0",
   "metadata": {},
   "outputs": [],
   "source": [
    "import pandas as pd\n",
    "from sklearn.model_selection import train_test_split, cross_val_score, KFold, StratifiedKFold\n",
    "from sklearn.naive_bayes import GaussianNB\n",
    "import matplotlib.pyplot as plt"
   ]
  },
  {
   "cell_type": "code",
   "execution_count": null,
   "id": "eacaad8a-50eb-4c63-9a65-6feae4a78a91",
   "metadata": {},
   "outputs": [],
   "source": [
    "df = pd.read_csv(\"titanic.csv\")\n",
    "df.head(3)"
   ]
  },
  {
   "cell_type": "code",
   "execution_count": null,
   "id": "0bc014c6-30a8-4b4a-a335-e912ee748f3e",
   "metadata": {},
   "outputs": [],
   "source": [
    "df = df.drop(columns = [\"Name\", \"PassengerId\", \"Cabin\", \"Ticket\", \"Embarked\", \"Parch\", \"SibSp\"], axis = 1)"
   ]
  },
  {
   "cell_type": "code",
   "execution_count": null,
   "id": "6ae3f20a-d086-417f-8b64-2de912ffe427",
   "metadata": {},
   "outputs": [],
   "source": [
    "dummies = pd.get_dummies(df[\"Sex\"])\n",
    "df = df.drop(columns = [\"Sex\"])\n",
    "df = pd.concat([df, dummies], axis = \"columns\")\n",
    "df.isna().sum()"
   ]
  },
  {
   "cell_type": "code",
   "execution_count": null,
   "id": "697d52e3-11c9-46cc-b8c9-eb20a67d433a",
   "metadata": {},
   "outputs": [],
   "source": [
    "df[\"Age\"] = df.Age.fillna(value = df.Age.mean())\n",
    "df.head(3)"
   ]
  },
  {
   "cell_type": "code",
   "execution_count": null,
   "id": "e876d746-cfc5-4f9a-8c3f-e8b3251a34f4",
   "metadata": {},
   "outputs": [],
   "source": [
    "X = df.drop(\"Survived\", axis = 1)\n",
    "y = df[\"Survived\"]\n",
    "\n",
    "X_train, X_test, y_train, y_test = train_test_split(X, y, test_size = 0.2)\n",
    "\n",
    "model = GaussianNB()\n",
    "model.fit(X_train, y_train)"
   ]
  },
  {
   "cell_type": "code",
   "execution_count": null,
   "id": "0bdbc1b4-287f-49ea-8c4b-85d2df45eec2",
   "metadata": {},
   "outputs": [],
   "source": [
    "score1 = model.score(X_test, y_test)\n",
    "score2 = cross_val_score(model, X, y)\n",
    "score1, score2"
   ]
  },
  {
   "cell_type": "code",
   "execution_count": null,
   "id": "7911f888-1eed-4615-8a20-0e36462daf82",
   "metadata": {},
   "outputs": [],
   "source": [
    "skf = KFold(n_splits = 10)\n",
    "score3 = []\n",
    "def get_score(model, X_train, X_test, y_train, y_test):\n",
    "    model.fit(X_train, y_train)\n",
    "    return model.score(X_test, y_test)\n",
    "for train_index, test_index in skf.split(X):\n",
    "    X_train, X_test, y_train, y_test = X.iloc[train_index], X.iloc[test_index], y.iloc[train_index], y.iloc[test_index]\n",
    "    score3.append(get_score(model, X_train, X_test, y_train, y_test))\n",
    "score3"
   ]
  },
  {
   "cell_type": "code",
   "execution_count": null,
   "id": "f4d8ecbe-f03e-4d25-8fd9-551f1ef25bdd",
   "metadata": {},
   "outputs": [],
   "source": [
    "y_pred = model.predict(X_test)\n",
    "from sklearn.metrics import confusion_matrix\n",
    "confusion_matrix = confusion_matrix(y_test, y_pred)\n",
    "import seaborn as sns\n",
    "plt.figure(figsize = (12, 6))\n",
    "sns.heatmap(confusion_matrix, annot = True)\n",
    "plt.xlabel(\"predicted\")\n",
    "plt.ylabel(\"truth\")"
   ]
  },
  {
   "cell_type": "code",
   "execution_count": null,
   "id": "ed6c9de3-d06d-40c9-b5d8-71fb083636f9",
   "metadata": {},
   "outputs": [],
   "source": [
    "model.predict_proba(X_test)"
   ]
  },
  {
   "cell_type": "code",
   "execution_count": null,
   "id": "a4d5162f-e170-4451-ac69-f133c71a5b21",
   "metadata": {},
   "outputs": [],
   "source": [
    "from sklearn.model_selection import GridSearchCV\n",
    "from sklearn.svm import SVC\n",
    "\n",
    "grid_search_cv = GridSearchCV(SVC(gamma = \"auto\"), \n",
    "                              {\n",
    "                                  \"kernel\":[\"rbf\", \"linear\"],\n",
    "                                  \"C\":[1, 20, 30]\n",
    "                              }, cv = 5, return_train_score = False)\n",
    "grid_search_cv.fit(X,y)\n",
    "pd.DataFrame(grid_search_cv.cv_results_)"
   ]
  },
  {
   "cell_type": "code",
   "execution_count": null,
   "id": "f00cd828-905a-4ed3-9705-9a44ffa57441",
   "metadata": {},
   "outputs": [],
   "source": []
  },
  {
   "cell_type": "code",
   "execution_count": null,
   "id": "14523620-d859-4d7b-857d-818ab301c9fc",
   "metadata": {},
   "outputs": [],
   "source": []
  }
 ],
 "metadata": {
  "kernelspec": {
   "display_name": "Python 3 (ipykernel)",
   "language": "python",
   "name": "python3"
  },
  "language_info": {
   "codemirror_mode": {
    "name": "ipython",
    "version": 3
   },
   "file_extension": ".py",
   "mimetype": "text/x-python",
   "name": "python",
   "nbconvert_exporter": "python",
   "pygments_lexer": "ipython3",
   "version": "3.11.7"
  }
 },
 "nbformat": 4,
 "nbformat_minor": 5
}
