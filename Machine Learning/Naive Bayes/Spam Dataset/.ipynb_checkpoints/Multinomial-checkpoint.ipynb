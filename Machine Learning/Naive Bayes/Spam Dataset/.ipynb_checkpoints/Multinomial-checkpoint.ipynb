{
 "cells": [
  {
   "cell_type": "code",
   "execution_count": 1,
   "id": "eb30b231-8ae3-404f-ad86-7f8d22fbc5f8",
   "metadata": {},
   "outputs": [
    {
     "name": "stdout",
     "output_type": "stream",
     "text": [
      "  Category                                            Message\n",
      "0      ham  Go until jurong point, crazy.. Available only ...\n",
      "1      ham                      Ok lar... Joking wif u oni...\n",
      "2     spam  Free entry in 2 a wkly comp to win FA Cup fina...\n",
      "         Message                                                            \\\n",
      "           count unique                                                top   \n",
      "Category                                                                     \n",
      "ham         4825   4516                             Sorry, I'll call later   \n",
      "spam         747    641  Please call our customer service representativ...   \n",
      "\n",
      "               \n",
      "         freq  \n",
      "Category       \n",
      "ham        30  \n",
      "spam        4  \n",
      "                                             Message  spam\n",
      "0  Go until jurong point, crazy.. Available only ...     0\n",
      "1                      Ok lar... Joking wif u oni...     0\n",
      "2  Free entry in 2 a wkly comp to win FA Cup fina...     1\n",
      "[[0 0 0 ... 0 0 0]\n",
      " [0 0 0 ... 0 0 0]\n",
      " [0 0 0 ... 0 0 0]]\n",
      "MultinomialNB()\n",
      "[0.9809417  0.9809417  0.97979798 0.97418631 0.98204265]\n",
      "0.9919282511210762\n"
     ]
    }
   ],
   "source": [
    "import pandas as pd\n",
    "from sklearn.model_selection import train_test_split\n",
    "from sklearn.feature_extraction.text import CountVectorizer\n",
    "from sklearn.naive_bayes import MultinomialNB\n",
    "from sklearn.model_selection import cross_val_score\n",
    "\n",
    "# Load data\n",
    "df = pd.read_csv(\"spam.csv\")\n",
    "\n",
    "# Display first 3 rows\n",
    "print(df.head(3))\n",
    "\n",
    "# Group by Category and describe\n",
    "print(df.groupby(\"Category\").describe())\n",
    "\n",
    "# Create a binary column for spam\n",
    "df[\"spam\"] = df.Category.apply(lambda x: 1 if x == \"spam\" else 0)\n",
    "\n",
    "# Drop the original Category column\n",
    "df = df.drop(columns=[\"Category\"], axis=1)\n",
    "\n",
    "# Display first 3 rows of the new DataFrame\n",
    "print(df.head(3))\n",
    "\n",
    "# Split data into training and testing sets\n",
    "X_train, X_test, y_train, y_test = train_test_split(df.Message, df.spam, test_size=0.2, random_state=42)\n",
    "\n",
    "# Initialize CountVectorizer\n",
    "vectorizer = CountVectorizer()\n",
    "\n",
    "# Fit and transform training data\n",
    "X_train_count = vectorizer.fit_transform(X_train.values)\n",
    "\n",
    "# Display the first 3 rows of the transformed training data\n",
    "print(X_train_count.toarray()[:3])\n",
    "\n",
    "# Initialize and train the Multinomial Naive Bayes model\n",
    "model = MultinomialNB()\n",
    "model.fit(X_train_count, y_train)\n",
    "\n",
    "# Display the model\n",
    "print(model)\n",
    "\n",
    "# Perform cross-validation\n",
    "cv_scores = cross_val_score(model, X_train_count, y_train)\n",
    "print(cv_scores)\n",
    "\n",
    "# Transform the test data (only transform, not fit_transform)\n",
    "X_test_count = vectorizer.transform(X_test.values)\n",
    "\n",
    "# Evaluate the model on the test data\n",
    "test_score = model.score(X_test_count, y_test)\n",
    "print(test_score)\n",
    "\n",
    "emails = [\n",
    "    \"Hey mohan, can we get together to watch football game tomorrow?\",\n",
    "    \"Upto 20% discount on parking, exclusive offer just for you. Dont miss on the reward!\"\n",
    "]\n",
    "emails_count = vectorizer.transform(emails)\n",
    "model.predict(emails_count)"
   ]
  },
  {
   "cell_type": "code",
   "execution_count": 6,
   "id": "96b5527f-2fa4-429c-a3fa-a93eb26f4996",
   "metadata": {},
   "outputs": [
    {
     "data": {
      "text/plain": [
       "array([0, 1], dtype=int64)"
      ]
     },
     "execution_count": 6,
     "metadata": {},
     "output_type": "execute_result"
    }
   ],
   "source": [
    "emails = [\n",
    "    \"Hey mohan, can we get together to watch football game tomorrow?\",\n",
    "    \"Upto 20% discount on parking, exclusive offer just for you. Dont miss on the reward!\"\n",
    "]\n",
    "from sklearn.pipeline import Pipeline\n",
    "from sklearn.feature_extraction.text import CountVectorizer\n",
    "pipeline = Pipeline([\n",
    "    (\"vectorizer\", CountVectorizer()),\n",
    "    (\"multinomial\", MultinomialNB())\n",
    "])\n",
    "pipeline.fit(X_train, y_train)\n",
    "score = pipeline.score(X_test, y_test)\n",
    "predictions = pipeline.predict(emails)\n",
    "predictions"
   ]
  },
  {
   "cell_type": "code",
   "execution_count": null,
   "id": "62bec2f1-6af8-4e56-bfb4-5b4e1d46a8e3",
   "metadata": {},
   "outputs": [],
   "source": []
  }
 ],
 "metadata": {
  "kernelspec": {
   "display_name": "Python 3 (ipykernel)",
   "language": "python",
   "name": "python3"
  },
  "language_info": {
   "codemirror_mode": {
    "name": "ipython",
    "version": 3
   },
   "file_extension": ".py",
   "mimetype": "text/x-python",
   "name": "python",
   "nbconvert_exporter": "python",
   "pygments_lexer": "ipython3",
   "version": "3.11.7"
  }
 },
 "nbformat": 4,
 "nbformat_minor": 5
}
