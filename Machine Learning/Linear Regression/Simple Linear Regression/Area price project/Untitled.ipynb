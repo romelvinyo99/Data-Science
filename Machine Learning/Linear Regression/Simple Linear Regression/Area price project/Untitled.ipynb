{
 "cells": [
  {
   "cell_type": "code",
   "execution_count": 14,
   "id": "8f5659d8-3aab-462b-99e2-b641d4bc06d7",
   "metadata": {},
   "outputs": [
    {
     "name": "stdout",
     "output_type": "stream",
     "text": [
      "0.0 1.0\n"
     ]
    }
   ],
   "source": [
    "# Inner Workings of the linear Equation\n",
    "\n",
    "import numpy as np\n",
    "\n",
    "X = [[1, 1], [1, 2], [1, 3]]\n",
    "y = [1, 2, 3]\n",
    "\n",
    "def LinearRegressionModel(X, y):\n",
    "    X = np.array(X)\n",
    "    y = np.array(y)\n",
    "\n",
    "    X_transpose = np.transpose(X)\n",
    "    X_transpose_dot_X = np.dot(X_transpose, X)\n",
    "    X_transpose_dot_X_inverse = np.linalg.inv(X_transpose_dot_X)\n",
    "\n",
    "    X_transpose_dot_y = np.dot(X_transpose, y)\n",
    "\n",
    "    theta = np.dot(X_transpose_dot_X_inverse, X_transpose_dot_y)\n",
    "\n",
    "    theta = np.round(theta, 4)\n",
    "\n",
    "    return theta\n",
    "\n",
    "bias, coefficient = LinearRegressionModel(X, y)\n",
    "print(bias, coefficient)"
   ]
  },
  {
   "cell_type": "code",
   "execution_count": 16,
   "id": "e7c87a17-e4d6-48ae-96a1-cc9e143d7998",
   "metadata": {},
   "outputs": [
    {
     "name": "stdout",
     "output_type": "stream",
     "text": [
      "[[1, 4], [2, 5], [3, 6]]\n"
     ]
    }
   ],
   "source": [
    "# Getting the transpose of a matrix\n",
    "import numpy as np\n",
    "X = [[1, 2, 3], [4, 5, 6]]\n",
    "def transpose_matrix(X):\n",
    "    X = np.array(X)\n",
    "    return np.transpose(X).tolist()\n",
    "print(transpose_matrix(X))    "
   ]
  },
  {
   "cell_type": "code",
   "execution_count": 22,
   "id": "b5888fc2-34ba-4ff0-a074-e6cd0ffe6234",
   "metadata": {},
   "outputs": [
    {
     "name": "stdout",
     "output_type": "stream",
     "text": [
      "[[1.0, 1.0], [1.0, 1.0]]\n"
     ]
    }
   ],
   "source": [
    "# calculating covariance\n",
    "\n",
    "matrix = np.array([[1, 2, 3], [4, 5, 6]])\n",
    "\n",
    "def covarianceMatrix(matrix):\n",
    "    # am using delta degrees of freedom 1 because this represents the whole population\n",
    "    covariance_matrix = np.cov(matrix, ddof = 1)\n",
    "    return covariance_matrix.tolist()\n",
    "print(covarianceMatrix(matrix))    "
   ]
  },
  {
   "cell_type": "code",
   "execution_count": 28,
   "id": "1748c604-d1de-4a3f-8375-09b8214ff503",
   "metadata": {},
   "outputs": [
    {
     "name": "stdout",
     "output_type": "stream",
     "text": [
      "[5, 10]\n",
      "(2, 2) (2,)\n"
     ]
    }
   ],
   "source": [
    "# matrix times vector\n",
    "\n",
    "def matrixTimesVector(matrix, vector):\n",
    "    matrix = np.array(matrix)\n",
    "    vector = np.array(vector)\n",
    "\n",
    "    if matrix.shape[1] != vector.shape[0]:\n",
    "        raise Exception(\"Not multipliable\")\n",
    "    return np.dot(matrix, vector).tolist()\n",
    "\n",
    "matrix = [[1,2],[2,4]]\n",
    "vector = [1,2]\n",
    "\n",
    "print(matrixTimesVector(matrix, vector))\n",
    "\n",
    "print(np.array(matrix).shape, np.array(vector).shape)"
   ]
  },
  {
   "cell_type": "code",
   "execution_count": 29,
   "id": "b46b61bc-400b-4b4c-a910-00cc72c5a3d3",
   "metadata": {},
   "outputs": [
    {
     "name": "stdout",
     "output_type": "stream",
     "text": [
      "normalized_data = [[0.  0.  0. ]\n",
      " [0.5 0.5 0.5]\n",
      " [1.  1.  1. ]]\n",
      " standardized_data = [[-1.22474487 -1.22474487 -1.22474487]\n",
      " [ 0.          0.          0.        ]\n",
      " [ 1.22474487  1.22474487  1.22474487]]\n"
     ]
    }
   ],
   "source": [
    "# Feature Scaling\n",
    "\n",
    "def  scaleFeatures(data):\n",
    "    data = np.array(data)\n",
    "    \n",
    "    # standard scaling\n",
    "    mean = np.mean(data, axis = 0)\n",
    "    standard_deviation = np.std(data, axis = 0)\n",
    "\n",
    "    standardized_data = (data - mean) / standard_deviation \n",
    "\n",
    "    # MinMax normalization\n",
    "    minimum_value = np.min(data, axis = 0)\n",
    "    maximum_value = np.max(data, axis = 0)\n",
    "\n",
    "    normalized_data = (data - minimum_value) / (maximum_value - minimum_value)\n",
    "    return standardized_data, normalized_data\n",
    "\n",
    "\n",
    "data = ([\n",
    "    [1, 2, 3],\n",
    "    [4, 5, 6], \n",
    "    [7, 8, 9]\n",
    "])\n",
    "\n",
    "standard, normal = scaleFeatures(data)\n",
    "print(f\"normalized_data = {normal}\\n standardized_data = {standard}\")"
   ]
  },
  {
   "cell_type": "code",
   "execution_count": 31,
   "id": "2107d325-8a7b-449e-be21-91c271d8906c",
   "metadata": {},
   "outputs": [
    {
     "name": "stdout",
     "output_type": "stream",
     "text": [
      "Determinant of the 4x4 matrix: 4.7331654313261276e-30\n"
     ]
    }
   ],
   "source": [
    "# laplace/cofactor expansion\n",
    "import numpy as np\n",
    "\n",
    "# Example 4x4 matrix\n",
    "matrix_4x4 = np.array([\n",
    "    [1, 2, 3, 4],\n",
    "    [5, 6, 7, 8],\n",
    "    [9, 10, 11, 12],\n",
    "    [13, 14, 15, 16]\n",
    "])\n",
    "\n",
    "# Calculate determinant\n",
    "det_result = np.linalg.det(matrix_4x4)\n",
    "print(f\"Determinant of the 4x4 matrix: {det_result}\")\n",
    "# long way\n",
    "\n",
    "def determinant(matrix):\n",
    "    # Base case for 2x2 matrix\n",
    "    if len(matrix) == 2:\n",
    "        return matrix[0][0] * matrix[1][1] - matrix[0][1] * matrix[1][0]\n",
    "\n",
    "    # Recursive case for larger matrices\n",
    "    det = 0\n",
    "    for col in range(len(matrix)):\n",
    "        # Create the minor matrix by excluding the first row and the current column\n",
    "        minor = [row[:col] + row[col+1:] for row in matrix[1:]]\n",
    "        \n",
    "        # Recursive call for determinant of the minor matrix\n",
    "        cofactor = ((-1) ** col) * matrix[0][col] * determinant(minor)\n",
    "        det += cofactor\n",
    "\n",
    "    return det\n"
   ]
  },
  {
   "cell_type": "code",
   "execution_count": null,
   "id": "f614852c-8d29-4a94-85da-cf2ba799b02c",
   "metadata": {},
   "outputs": [],
   "source": []
  }
 ],
 "metadata": {
  "kernelspec": {
   "display_name": "Python 3 (ipykernel)",
   "language": "python",
   "name": "python3"
  },
  "language_info": {
   "codemirror_mode": {
    "name": "ipython",
    "version": 3
   },
   "file_extension": ".py",
   "mimetype": "text/x-python",
   "name": "python",
   "nbconvert_exporter": "python",
   "pygments_lexer": "ipython3",
   "version": "3.11.7"
  }
 },
 "nbformat": 4,
 "nbformat_minor": 5
}
