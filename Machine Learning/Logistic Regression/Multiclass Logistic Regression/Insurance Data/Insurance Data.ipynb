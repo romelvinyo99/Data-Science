{
 "cells": [
  {
   "cell_type": "code",
   "execution_count": 35,
   "id": "f491046e-9ece-4963-b01e-9b05798fee2a",
   "metadata": {},
   "outputs": [
    {
     "data": {
      "image/png": "[encoded data removed]",
      "text/plain": [
       "<Figure size 640x480 with 1 Axes>"
      ]
     },
     "metadata": {},
     "output_type": "display_data"
    },
    {
     "data": {
      "text/plain": [
       "array([1, 0, 1], dtype=int64)"
      ]
     },
     "execution_count": 35,
     "metadata": {},
     "output_type": "execute_result"
    }
   ],
   "source": [
    "import pandas as pd\n",
    "import matplotlib.pyplot as plt\n",
    "from sklearn.model_selection import train_test_split\n",
    "from sklearn.linear_model import LogisticRegression\n",
    "\n",
    "# Load the dataset\n",
    "df = pd.read_csv(\"insurance_data.csv\")\n",
    "\n",
    "# Plotting the data\n",
    "plt.scatter(df[\"age\"], df[\"bought_insurance\"], marker=\"+\", color=\"red\", label=\"data points\")\n",
    "plt.legend()\n",
    "plt.xlabel(\"age\")\n",
    "plt.ylabel(\"bought_insurance\")\n",
    "plt.show()\n",
    "\n",
    "# Preparing the data\n",
    "X = df[\"age\"].values.reshape(-1, 1)\n",
    "y = df[\"bought_insurance\"].values\n",
    "\n",
    "# Splitting the data\n",
    "X_train, X_test, y_train, y_test = train_test_split(X, y, test_size=0.1, random_state=42)\n",
    "\n",
    "# Training the model\n",
    "model = LogisticRegression()\n",
    "model.fit(X_train, y_train)\n",
    "\n",
    "# Making predictions\n",
    "predictions = model.predict(X_test)\n",
    "\n",
    "# Display predictions\n",
    "predictions\n"
   ]
  },
  {
   "cell_type": "code",
   "execution_count": 36,
   "id": "219273db-c1a9-438a-845d-1f08718882c6",
   "metadata": {},
   "outputs": [
    {
     "data": {
      "text/plain": [
       "1.0"
      ]
     },
     "execution_count": 36,
     "metadata": {},
     "output_type": "execute_result"
    }
   ],
   "source": [
    "score = model.score(X_test, y_test)\n",
    "score"
   ]
  },
  {
   "cell_type": "code",
   "execution_count": 37,
   "id": "df6eb177-4a05-45d2-9b6b-8ddefd64959a",
   "metadata": {},
   "outputs": [
    {
     "data": {
      "text/plain": [
       "array([[0.04794221, 0.95205779],\n",
       "       [0.77002443, 0.22997557],\n",
       "       [0.0540927 , 0.9459073 ]])"
      ]
     },
     "execution_count": 37,
     "metadata": {},
     "output_type": "execute_result"
    }
   ],
   "source": [
    "model.predict_proba(X_test)"
   ]
  },
  {
   "cell_type": "code",
   "execution_count": 38,
   "id": "60ad3161-8699-4608-9f2f-f8ac78133318",
   "metadata": {},
   "outputs": [],
   "source": [
    "from sklearn.linear_model import LogisticRegression, LinearRegression, Lasso, Ridge\n",
    "from sklearn.ensemble import RandomForestClassifier\n",
    "from sklearn.model_selection import cross_val_score, GridSearchCV\n",
    "model_params = {\n",
    "    \"LinearRegression\":{\n",
    "        \"model\":LinearRegression(),\n",
    "        \"params\":{}\n",
    "    },\n",
    "    \"LogisticRegression\":{\n",
    "        \"model\":LogisticRegression(),\n",
    "        \"params\":{\n",
    "            \"solver\": [\"liblinear\", \"saga\", \"sag\", \"lbfgs\", \"newton-cg\"],\n",
    "            \"C\":[i / 10 for i in range(1, 10, 3)],\n",
    "            \"tol\":[i / 10 for i in range(1, 10, 3)]\n",
    "        }\n",
    "    },\n",
    "    \"RandomForestClassifier\":{\n",
    "        \"model\":RandomForestClassifier(),\n",
    "        \"params\":{\n",
    "            \"n_estimators\":[i for i in range(1, 100, 10)],\n",
    "            \"criterion\": [\"gini\", \"entropy\"], \n",
    "            \"random_state\": [i for i in range(1, 100, 25)]\n",
    "        }\n",
    "    },\n",
    "    \"LassoRegression\":{\n",
    "        \"model\":Lasso(max_iter = 1000000),\n",
    "        \"params\":{\n",
    "            \"alpha\":[i for i in range(1, 50, 5)],\n",
    "            \"tol\":[i / 10 for i in range(1, 10, 4)]\n",
    "        }\n",
    "    }\n",
    "}\n",
    "score = []\n",
    "for model_name, mp in model_params.items():\n",
    "    clf = GridSearchCV(mp[\"model\"], mp[\"params\"], cv = 5, return_train_score = False)\n",
    "    if model_name == \"LogisticRegression\":\n",
    "        clf.fit(X, y)\n",
    "    else:\n",
    "        clf.fit(X, df.bought_insurance)\n",
    "    score.append({\"model_name\":[model_name], \"best score\": [clf.best_score_], \"best params\": [clf.best_params_]})\n"
   ]
  },
  {
   "cell_type": "code",
   "execution_count": 39,
   "id": "bfb15fcd-58f1-448f-b13d-a59ad7ce401f",
   "metadata": {},
   "outputs": [
    {
     "data": {
      "text/plain": [
       "[{'model_name': ['LinearRegression'],\n",
       "  'best score': [0.3973434570478192],\n",
       "  'best params': [{}]},\n",
       " {'model_name': ['LogisticRegression'],\n",
       "  'best score': [0.8533333333333335],\n",
       "  'best params': [{'C': 0.1, 'solver': 'lbfgs', 'tol': 0.1}]},\n",
       " {'model_name': ['RandomForestClassifier'],\n",
       "  'best score': [0.8866666666666667],\n",
       "  'best params': [{'criterion': 'gini',\n",
       "    'n_estimators': 1,\n",
       "    'random_state': 51}]},\n",
       " {'model_name': ['LassoRegression'],\n",
       "  'best score': [0.3661035746433032],\n",
       "  'best params': [{'alpha': 1, 'tol': 0.1}]}]"
      ]
     },
     "execution_count": 39,
     "metadata": {},
     "output_type": "execute_result"
    }
   ],
   "source": [
    "score"
   ]
  },
  {
   "cell_type": "code",
   "execution_count": 42,
   "id": "e13ec384-b093-4f6e-9571-2580a67b1593",
   "metadata": {},
   "outputs": [
    {
     "data": {
      "text/html": [
       "<div>\n",
       "<style scoped>\n",
       "    .dataframe tbody tr th:only-of-type {\n",
       "        vertical-align: middle;\n",
       "    }\n",
       "\n",
       "    .dataframe tbody tr th {\n",
       "        vertical-align: top;\n",
       "    }\n",
       "\n",
       "    .dataframe thead th {\n",
       "        text-align: right;\n",
       "    }\n",
       "</style>\n",
       "<table border=\"1\" class=\"dataframe\">\n",
       "  <thead>\n",
       "    <tr style=\"text-align: right;\">\n",
       "      <th></th>\n",
       "      <th>mean_fit_time</th>\n",
       "      <th>std_fit_time</th>\n",
       "      <th>mean_score_time</th>\n",
       "      <th>std_score_time</th>\n",
       "      <th>param_alpha</th>\n",
       "      <th>param_tol</th>\n",
       "      <th>params</th>\n",
       "      <th>split0_test_score</th>\n",
       "      <th>split1_test_score</th>\n",
       "      <th>split2_test_score</th>\n",
       "      <th>split3_test_score</th>\n",
       "      <th>split4_test_score</th>\n",
       "      <th>mean_test_score</th>\n",
       "      <th>std_test_score</th>\n",
       "      <th>rank_test_score</th>\n",
       "    </tr>\n",
       "  </thead>\n",
       "  <tbody>\n",
       "    <tr>\n",
       "      <th>27</th>\n",
       "      <td>0.000000</td>\n",
       "      <td>0.000000</td>\n",
       "      <td>0.001304</td>\n",
       "      <td>0.002608</td>\n",
       "      <td>46</td>\n",
       "      <td>0.1</td>\n",
       "      <td>{'alpha': 46, 'tol': 0.1}</td>\n",
       "      <td>-0.002268</td>\n",
       "      <td>-0.002268</td>\n",
       "      <td>-0.041667</td>\n",
       "      <td>-0.955062</td>\n",
       "      <td>-0.745868</td>\n",
       "      <td>-0.349426</td>\n",
       "      <td>0.41466</td>\n",
       "      <td>7</td>\n",
       "    </tr>\n",
       "    <tr>\n",
       "      <th>28</th>\n",
       "      <td>0.001605</td>\n",
       "      <td>0.003209</td>\n",
       "      <td>0.000000</td>\n",
       "      <td>0.000000</td>\n",
       "      <td>46</td>\n",
       "      <td>0.5</td>\n",
       "      <td>{'alpha': 46, 'tol': 0.5}</td>\n",
       "      <td>-0.002268</td>\n",
       "      <td>-0.002268</td>\n",
       "      <td>-0.041667</td>\n",
       "      <td>-0.955062</td>\n",
       "      <td>-0.745868</td>\n",
       "      <td>-0.349426</td>\n",
       "      <td>0.41466</td>\n",
       "      <td>7</td>\n",
       "    </tr>\n",
       "    <tr>\n",
       "      <th>29</th>\n",
       "      <td>0.000000</td>\n",
       "      <td>0.000000</td>\n",
       "      <td>0.000000</td>\n",
       "      <td>0.000000</td>\n",
       "      <td>46</td>\n",
       "      <td>0.9</td>\n",
       "      <td>{'alpha': 46, 'tol': 0.9}</td>\n",
       "      <td>-0.002268</td>\n",
       "      <td>-0.002268</td>\n",
       "      <td>-0.041667</td>\n",
       "      <td>-0.955062</td>\n",
       "      <td>-0.745868</td>\n",
       "      <td>-0.349426</td>\n",
       "      <td>0.41466</td>\n",
       "      <td>7</td>\n",
       "    </tr>\n",
       "  </tbody>\n",
       "</table>\n",
       "</div>"
      ],
      "text/plain": [
       "    mean_fit_time  std_fit_time  mean_score_time  std_score_time param_alpha  \\\n",
       "27       0.000000      0.000000         0.001304        0.002608          46   \n",
       "28       0.001605      0.003209         0.000000        0.000000          46   \n",
       "29       0.000000      0.000000         0.000000        0.000000          46   \n",
       "\n",
       "   param_tol                     params  split0_test_score  split1_test_score  \\\n",
       "27       0.1  {'alpha': 46, 'tol': 0.1}          -0.002268          -0.002268   \n",
       "28       0.5  {'alpha': 46, 'tol': 0.5}          -0.002268          -0.002268   \n",
       "29       0.9  {'alpha': 46, 'tol': 0.9}          -0.002268          -0.002268   \n",
       "\n",
       "    split2_test_score  split3_test_score  split4_test_score  mean_test_score  \\\n",
       "27          -0.041667          -0.955062          -0.745868        -0.349426   \n",
       "28          -0.041667          -0.955062          -0.745868        -0.349426   \n",
       "29          -0.041667          -0.955062          -0.745868        -0.349426   \n",
       "\n",
       "    std_test_score  rank_test_score  \n",
       "27         0.41466                7  \n",
       "28         0.41466                7  \n",
       "29         0.41466                7  "
      ]
     },
     "execution_count": 42,
     "metadata": {},
     "output_type": "execute_result"
    }
   ],
   "source": [
    "df = pd.DataFrame(clf.cv_results_)\n",
    "df.tail(3)"
   ]
  },
  {
   "cell_type": "code",
   "execution_count": null,
   "id": "ff78df6e-94fa-4999-9cc3-09609555f7e7",
   "metadata": {},
   "outputs": [],
   "source": []
  }
 ],
 "metadata": {
  "kernelspec": {
   "display_name": "Python 3 (ipykernel)",
   "language": "python",
   "name": "python3"
  },
  "language_info": {
   "codemirror_mode": {
    "name": "ipython",
    "version": 3
   },
   "file_extension": ".py",
   "mimetype": "text/x-python",
   "name": "python",
   "nbconvert_exporter": "python",
   "pygments_lexer": "ipython3",
   "version": "3.11.7"
  }
 },
 "nbformat": 4,
 "nbformat_minor": 5
}
