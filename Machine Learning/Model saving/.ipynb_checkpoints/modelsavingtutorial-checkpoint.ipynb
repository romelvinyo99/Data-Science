{
 "cells": [
  {
   "cell_type": "code",
   "execution_count": null,
   "id": "a1d50798-f778-4efb-9c79-724132c5c729",
   "metadata": {},
   "outputs": [],
   "source": [
    "import pandas as pd\n",
    "import numpy as np\n",
    "import matplotlib.pyplot as plt\n",
    "from sklearn import linear_model\n",
    "import joblib\n",
    "#import the data\n",
    "house_prices = pd.read_csv(\"canada_per_capita_income.csv\")\n",
    "house_prices"
   ]
  },
  {
   "cell_type": "code",
   "execution_count": null,
   "id": "73604e2b-9919-410d-9094-2ae80067ca73",
   "metadata": {},
   "outputs": [],
   "source": [
    "#cleaning the data\n",
    "\n",
    "#summary information\n",
    "house_prices.info()\n",
    "#checks for null values\n",
    "house_prices.isnull()\n",
    "#checks for duplicates\n",
    "house_prices.duplicated()\n",
    "#removing duplicates\n",
    "house_prices.drop_duplicates()\n"
   ]
  },
  {
   "cell_type": "code",
   "execution_count": null,
   "id": "587b7b00-1c43-4b82-9053-f100842cc3cd",
   "metadata": {},
   "outputs": [],
   "source": [
    "#creating a model\n",
    "model = linear_model.LinearRegression()\n",
    "X = X.reshape(-1,1)\n",
    "model.fit(X, y)"
   ]
  },
  {
   "cell_type": "code",
   "execution_count": null,
   "id": "05e5d7ed-614f-4c3c-a8a8-8be8466176c6",
   "metadata": {},
   "outputs": [],
   "source": [
    "#predictions\n",
    "value = pd.DataFrame({\n",
    "    \"year\":[2017, 2018, 2019, 2020, 2021, 2022, 2023, 2024]\n",
    "})\n",
    "X1 = value[\"year\"].values.reshape(-1, 1)\n",
    "predictions = model.predict(X1)\n",
    "value[\"per capita income (US$)- prediction\"] = predictions\n",
    "value"
   ]
  },
  {
   "cell_type": "code",
   "execution_count": null,
   "id": "5a3260f4-fefa-43f1-9e13-4ca80a3b7223",
   "metadata": {},
   "outputs": [],
   "source": [
    "import pickle"
   ]
  },
  {
   "cell_type": "code",
   "execution_count": null,
   "id": "4a09aee7-4561-4b95-be9d-68775f0ca4c4",
   "metadata": {},
   "outputs": [],
   "source": [
    "#opening a model file\n",
    "with open(\"model_pickle\", \"wb\") as f:\n",
    "    #dumping the model in the file\n",
    "    pickle.dump(model, f)"
   ]
  },
  {
   "cell_type": "code",
   "execution_count": null,
   "id": "4ab06772-d642-491a-82b3-baab6818de33",
   "metadata": {},
   "outputs": [],
   "source": [
    "#loading the model\n",
    "with open(\"model_pickle\", \"rb\") as f:\n",
    "    model1 = pickle.load(f)"
   ]
  },
  {
   "cell_type": "code",
   "execution_count": null,
   "id": "d1fc70d5-11ca-40fb-8843-6f7c18e6e2a0",
   "metadata": {},
   "outputs": [],
   "source": [
    "#using the model\n",
    "mp.predict(5000)"
   ]
  },
  {
   "cell_type": "code",
   "execution_count": null,
   "id": "6db3077e-c128-45f3-b892-68f22c4a77f3",
   "metadata": {},
   "outputs": [],
   "source": []
  }
 ],
 "metadata": {
  "kernelspec": {
   "display_name": "Python 3 (ipykernel)",
   "language": "python",
   "name": "python3"
  },
  "language_info": {
   "codemirror_mode": {
    "name": "ipython",
    "version": 3
   },
   "file_extension": ".py",
   "mimetype": "text/x-python",
   "name": "python",
   "nbconvert_exporter": "python",
   "pygments_lexer": "ipython3",
   "version": "3.11.7"
  }
 },
 "nbformat": 4,
 "nbformat_minor": 5
}
