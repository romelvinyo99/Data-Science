{
 "cells": [
  {
   "cell_type": "code",
   "execution_count": 13,
   "id": "0dc92ce6-81cb-4937-9ded-49b78edef069",
   "metadata": {},
   "outputs": [],
   "source": [
    "import math\n",
    "#sigmoid / logit function\n",
    "def sigmoid(x):\n",
    "    return (1 /(1+math.exp(-x)))\n",
    "#tanh\n",
    "def tanh(x):\n",
    "    return ((math.exp(x) - math.exp(-x))/(math.exp(x)+math.exp(-x)))\n",
    "#ReLU\n",
    "def relu(x):\n",
    "    return max(0, x)\n",
    "#Leaky ReLU\n",
    "def leakyRelu(x):\n",
    "    return max(0.1*x,x)"
   ]
  },
  {
   "cell_type": "code",
   "execution_count": 17,
   "id": "ee82b731-b52d-444f-8d62-98bb199515d7",
   "metadata": {},
   "outputs": [
    {
     "data": {
      "text/plain": [
       "0"
      ]
     },
     "execution_count": 17,
     "metadata": {},
     "output_type": "execute_result"
    }
   ],
   "source": [
    "relu(-1)"
   ]
  },
  {
   "cell_type": "code",
   "execution_count": 19,
   "id": "86c1fb78-03a0-4c12-adf3-cc1892d62300",
   "metadata": {},
   "outputs": [
    {
     "data": {
      "text/plain": [
       "100"
      ]
     },
     "execution_count": 19,
     "metadata": {},
     "output_type": "execute_result"
    }
   ],
   "source": [
    "leakyRelu(100)"
   ]
  },
  {
   "cell_type": "code",
   "execution_count": null,
   "id": "6843d0f1-32ff-441f-9d3c-4add00431505",
   "metadata": {},
   "outputs": [],
   "source": []
  }
 ],
 "metadata": {
  "kernelspec": {
   "display_name": "Python 3 (ipykernel)",
   "language": "python",
   "name": "python3"
  },
  "language_info": {
   "codemirror_mode": {
    "name": "ipython",
    "version": 3
   },
   "file_extension": ".py",
   "mimetype": "text/x-python",
   "name": "python",
   "nbconvert_exporter": "python",
   "pygments_lexer": "ipython3",
   "version": "3.11.7"
  }
 },
 "nbformat": 4,
 "nbformat_minor": 5
}
