{
 "cells": [
  {
   "cell_type": "code",
   "execution_count": 28,
   "id": "6ea37f35-93d7-4b7b-abdb-733ecf122741",
   "metadata": {},
   "outputs": [],
   "source": [
    "import numpy as np"
   ]
  },
  {
   "cell_type": "code",
   "execution_count": 33,
   "id": "e0f93289-1ca7-4255-9773-50af7fc07b41",
   "metadata": {},
   "outputs": [],
   "source": [
    "y_predicted = np.array([1, 1, 0, 0, 1])\n",
    "y_true = np.array([0.30, 0.7, 1, 0, 0.5])"
   ]
  },
  {
   "cell_type": "code",
   "execution_count": 34,
   "id": "35dafbea-2293-4e74-a45e-68b2905f29c5",
   "metadata": {},
   "outputs": [],
   "source": [
    "#getting mae the traditional way\n",
    "def mae(y_true, y_predicted):\n",
    "    total_error = 0\n",
    "    for yt, yp in zip(y_true, y_predicted):\n",
    "        total_error += abs(yt - yp)\n",
    "    print(\"Total error\", total_error)\n",
    "    mae = total_error / len(y_true)\n",
    "    print(\"mae\", mae)\n",
    "    return mae\n",
    "\n",
    "\n",
    "#numpy way of getting mae\n",
    "difference = y_true - y_predicted\n",
    "absolute_difference = np.abs(difference)\n",
    "total_error = np.sum(absolute_difference)\n",
    "mae = np.mean(absolute_difference) "
   ]
  },
  {
   "cell_type": "code",
   "execution_count": 38,
   "id": "055f3878-ca1f-4663-8680-8d17b114657d",
   "metadata": {},
   "outputs": [],
   "source": [
    "#binary Cross-Entropy / Log Loss function\n",
    "epsilon = 1e-15\n",
    "y_predicted_new = np.clip(y_predicted, epsilon, 1 - epsilon)"
   ]
  },
  {
   "cell_type": "code",
   "execution_count": 39,
   "id": "a5dab738-e8bd-44a0-81d5-7aec4a1a75ae",
   "metadata": {},
   "outputs": [
    {
     "data": {
      "text/plain": [
       "17.2696280766844"
      ]
     },
     "execution_count": 39,
     "metadata": {},
     "output_type": "execute_result"
    }
   ],
   "source": [
    "#log loss formula\n",
    "-np.mean(y_true * np.log(y_predicted_new) + (1 - y_true) * np.log(1 - y_predicted_new))"
   ]
  },
  {
   "cell_type": "code",
   "execution_count": null,
   "id": "829b5eaa-f577-4687-9fbe-5f14336e9d21",
   "metadata": {},
   "outputs": [],
   "source": []
  }
 ],
 "metadata": {
  "kernelspec": {
   "display_name": "Python 3 (ipykernel)",
   "language": "python",
   "name": "python3"
  },
  "language_info": {
   "codemirror_mode": {
    "name": "ipython",
    "version": 3
   },
   "file_extension": ".py",
   "mimetype": "text/x-python",
   "name": "python",
   "nbconvert_exporter": "python",
   "pygments_lexer": "ipython3",
   "version": "3.11.7"
  }
 },
 "nbformat": 4,
 "nbformat_minor": 5
}
